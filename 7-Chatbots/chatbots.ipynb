{
 "cells": [
  {
   "cell_type": "code",
   "execution_count": 2,
   "id": "77c8df74",
   "metadata": {},
   "outputs": [],
   "source": [
    "import os\n",
    "from dotenv import load_dotenv\n",
    "load_dotenv()\n",
    "\n",
    "groq_api_key = os.getenv(\"GROQ_API_KEY\")\n"
   ]
  },
  {
   "cell_type": "code",
   "execution_count": 3,
   "id": "17504444",
   "metadata": {},
   "outputs": [],
   "source": [
    "from langchain_groq import ChatGroq\n",
    "\n",
    "model = ChatGroq(model=\"Gemma2-9b-It\",groq_api_key=groq_api_key)"
   ]
  },
  {
   "cell_type": "code",
   "execution_count": 4,
   "id": "af61906d",
   "metadata": {},
   "outputs": [
    {
     "data": {
      "text/plain": [
       "AIMessage(content=\"Hello Shubham,\\n\\nIt's nice to meet you! Thanks for introducing yourself. As a chief AI engineer, what kind of exciting projects are you working on?  \\n\\nI'm always eager to learn more about the innovative applications of AI.  \\n\\n\", additional_kwargs={}, response_metadata={'token_usage': {'completion_tokens': 56, 'prompt_tokens': 23, 'total_tokens': 79, 'completion_time': 0.101818182, 'prompt_time': 0.001329369, 'queue_time': 0.24999522700000001, 'total_time': 0.103147551}, 'model_name': 'Gemma2-9b-It', 'system_fingerprint': 'fp_10c08bf97d', 'service_tier': 'on_demand', 'finish_reason': 'stop', 'logprobs': None}, id='run--3f9ec831-b6f5-4694-b566-6c14ffeb94b2-0', usage_metadata={'input_tokens': 23, 'output_tokens': 56, 'total_tokens': 79})"
      ]
     },
     "execution_count": 4,
     "metadata": {},
     "output_type": "execute_result"
    }
   ],
   "source": [
    "from langchain_core.messages import HumanMessage\n",
    "model.invoke([HumanMessage(content=\"Hi, My name is Shubham and I am a chief ai engineer\")])"
   ]
  },
  {
   "cell_type": "code",
   "execution_count": 5,
   "id": "2ba486cd",
   "metadata": {},
   "outputs": [
    {
     "data": {
      "text/plain": [
       "AIMessage(content=\"You told me your name is Shubham and that you are a Chief AI Engineer!  \\n\\nIs there anything else you'd like to tell me about yourself or your work? I'm eager to learn more. 😊  \\n\", additional_kwargs={}, response_metadata={'token_usage': {'completion_tokens': 49, 'prompt_tokens': 107, 'total_tokens': 156, 'completion_time': 0.089090909, 'prompt_time': 0.00342906, 'queue_time': 0.25021428100000004, 'total_time': 0.092519969}, 'model_name': 'Gemma2-9b-It', 'system_fingerprint': 'fp_10c08bf97d', 'service_tier': 'on_demand', 'finish_reason': 'stop', 'logprobs': None}, id='run--afba6f32-a3c4-472a-9cc2-3705a7d11e5b-0', usage_metadata={'input_tokens': 107, 'output_tokens': 49, 'total_tokens': 156})"
      ]
     },
     "execution_count": 5,
     "metadata": {},
     "output_type": "execute_result"
    }
   ],
   "source": [
    "from langchain_core.messages import AIMessage\n",
    "from sympy import content\n",
    "model.invoke(\n",
    "    [\n",
    "        HumanMessage(content=\"Hi, My name is Shubham and I am a chief ai engineer\"),\n",
    "        AIMessage(content=\"Hello Shubham, it's nice to meet you!\\n\\nThat's a fascinating title. As a large language model, I'm always interested in learning more about how people are using AI in innovative ways. \\n\\nWhat kind of projects are you working on as Chief AI Engineer?  \\n\\n\"),\n",
    "        HumanMessage(content=\"Hey, What's my name and what do i do?\")\n",
    "    ]\n",
    ")"
   ]
  },
  {
   "cell_type": "code",
   "execution_count": 6,
   "id": "d73a9b8b",
   "metadata": {},
   "outputs": [],
   "source": [
    "## Message history\n",
    "\n",
    "from langchain_community.chat_message_histories import ChatMessageHistory\n",
    "from langchain_core.chat_history import BaseChatMessageHistory\n",
    "from langchain_core.runnables.history import RunnableWithMessageHistory\n",
    "\n",
    "store = {}\n",
    "\n",
    "def get_session_history(session_id:str)->BaseChatMessageHistory:\n",
    "    if session_id not in store:\n",
    "        store[session_id] = ChatMessageHistory()\n",
    "    return store[session_id]\n",
    "\n",
    "with_message_history = RunnableWithMessageHistory(model,get_session_history)"
   ]
  },
  {
   "cell_type": "code",
   "execution_count": 7,
   "id": "81531d55",
   "metadata": {},
   "outputs": [],
   "source": [
    "config = {\"configurable\":{\"session_id\":\"chat1\"}}"
   ]
  },
  {
   "cell_type": "code",
   "execution_count": 8,
   "id": "df615e87",
   "metadata": {},
   "outputs": [],
   "source": [
    "response = with_message_history.invoke(\n",
    "    [HumanMessage(content = \"Hi, My name is Shubham and I am a chief ai engineer\")],\n",
    "    config=config\n",
    ")"
   ]
  },
  {
   "cell_type": "code",
   "execution_count": 9,
   "id": "cfcda68b",
   "metadata": {},
   "outputs": [
    {
     "data": {
      "text/plain": [
       "\"Hello Shubham,\\n\\nIt's nice to meet you! Being a Chief AI Engineer is a fascinating role. What kind of projects are you currently working on?\\n\\nI'm always eager to learn more about the cutting-edge applications of AI. Perhaps you could tell me about some of the challenges and rewards you encounter in your work.\\n\""
      ]
     },
     "execution_count": 9,
     "metadata": {},
     "output_type": "execute_result"
    }
   ],
   "source": [
    "response.content"
   ]
  },
  {
   "cell_type": "code",
   "execution_count": 10,
   "id": "d08b80de",
   "metadata": {},
   "outputs": [],
   "source": [
    "response = with_message_history.invoke(\n",
    "    [HumanMessage(content = \"Hi, My name is Shubham and I am a chief ai engineer\")],\n",
    "    config=config\n",
    ")"
   ]
  },
  {
   "cell_type": "code",
   "execution_count": 11,
   "id": "ebddb7b5",
   "metadata": {},
   "outputs": [
    {
     "data": {
      "text/plain": [
       "AIMessage(content='Your name is Shubham.  😊  \\n\\nI remember that from our first conversation!  \\n\\n\\n\\n\\n', additional_kwargs={}, response_metadata={'token_usage': {'completion_tokens': 23, 'prompt_tokens': 194, 'total_tokens': 217, 'completion_time': 0.041818182, 'prompt_time': 0.004872908, 'queue_time': 0.249054618, 'total_time': 0.04669109}, 'model_name': 'Gemma2-9b-It', 'system_fingerprint': 'fp_10c08bf97d', 'service_tier': 'on_demand', 'finish_reason': 'stop', 'logprobs': None}, id='run--39f8868a-bf49-47ba-99fc-d35bbcc070fd-0', usage_metadata={'input_tokens': 194, 'output_tokens': 23, 'total_tokens': 217})"
      ]
     },
     "execution_count": 11,
     "metadata": {},
     "output_type": "execute_result"
    }
   ],
   "source": [
    "with_message_history.invoke(\n",
    "    [HumanMessage(content = \"What is my name?\")],\n",
    "    config=config\n",
    ")"
   ]
  },
  {
   "cell_type": "code",
   "execution_count": 12,
   "id": "e1ebc1bb",
   "metadata": {},
   "outputs": [],
   "source": [
    "## changing the config-->session id\n",
    "config1 = {\"configurable\":{\"session_id\":\"chat2\"}}"
   ]
  },
  {
   "cell_type": "code",
   "execution_count": 13,
   "id": "7f925021",
   "metadata": {},
   "outputs": [
    {
     "data": {
      "text/plain": [
       "AIMessage(content=\"Hello Shubham!\\n\\nIt's nice to meet you. 👋\\n\\nIs there anything I can help you with today?\\n\", additional_kwargs={}, response_metadata={'token_usage': {'completion_tokens': 28, 'prompt_tokens': 14, 'total_tokens': 42, 'completion_time': 0.050909091, 'prompt_time': 0.00125414, 'queue_time': 0.24971352, 'total_time': 0.052163231}, 'model_name': 'Gemma2-9b-It', 'system_fingerprint': 'fp_10c08bf97d', 'service_tier': 'on_demand', 'finish_reason': 'stop', 'logprobs': None}, id='run--bcde5f3f-7ad3-4115-8a4a-ae1a1585debf-0', usage_metadata={'input_tokens': 14, 'output_tokens': 28, 'total_tokens': 42})"
      ]
     },
     "execution_count": 13,
     "metadata": {},
     "output_type": "execute_result"
    }
   ],
   "source": [
    "with_message_history.invoke(\n",
    "    [HumanMessage(content = \"My name is Shubham\")],\n",
    "    config=config1\n",
    ")"
   ]
  },
  {
   "cell_type": "code",
   "execution_count": 14,
   "id": "db80fd30",
   "metadata": {},
   "outputs": [
    {
     "name": "stdout",
     "output_type": "stream",
     "text": [
      "{'configurable': {'session_id': 'chat1'}}\n",
      "Human: My name is Shubham\n",
      "AI: Hello Shubham!\n",
      "\n",
      "It's nice to meet you. 👋\n",
      "\n",
      "Is there anything I can help you with today?\n",
      "\n"
     ]
    }
   ],
   "source": [
    "print(config)\n",
    "print(get_session_history(\"chat2\"))"
   ]
  },
  {
   "cell_type": "code",
   "execution_count": 15,
   "id": "60d86315",
   "metadata": {},
   "outputs": [],
   "source": [
    "## Prompt templates\n",
    "\n",
    "from langchain_core.prompts import ChatPromptTemplate,MessagesPlaceholder\n",
    "\n",
    "prompt = ChatPromptTemplate.from_messages(\n",
    "    [\n",
    "        (\"system\",\"You are a helpful assistant. Answer all the question to the best of your ability. You should be very friendly and anyone should love to talk with you.\"),\n",
    "        MessagesPlaceholder(variable_name=\"messages\")\n",
    "    ]\n",
    ")\n",
    "\n",
    "chain = prompt|model\n"
   ]
  },
  {
   "cell_type": "code",
   "execution_count": 16,
   "id": "6ab59e08",
   "metadata": {},
   "outputs": [
    {
     "data": {
      "text/plain": [
       "AIMessage(content=\"Hi Shubham, it's so nice to meet you! 👋  I'm happy to be your helpful assistant. What can I do for you today? 😊  \\n\\n\", additional_kwargs={}, response_metadata={'token_usage': {'completion_tokens': 39, 'prompt_tokens': 46, 'total_tokens': 85, 'completion_time': 0.070909091, 'prompt_time': 0.00162954, 'queue_time': 0.252227976, 'total_time': 0.072538631}, 'model_name': 'Gemma2-9b-It', 'system_fingerprint': 'fp_10c08bf97d', 'service_tier': 'on_demand', 'finish_reason': 'stop', 'logprobs': None}, id='run--7abaf18c-14b3-4ff9-a998-339ee56f3c64-0', usage_metadata={'input_tokens': 46, 'output_tokens': 39, 'total_tokens': 85})"
      ]
     },
     "execution_count": 16,
     "metadata": {},
     "output_type": "execute_result"
    }
   ],
   "source": [
    "chain.invoke({\"messages\":[HumanMessage(content=\"Hi my name is Shubham\")]})"
   ]
  },
  {
   "cell_type": "code",
   "execution_count": 17,
   "id": "8360ccfd",
   "metadata": {},
   "outputs": [],
   "source": [
    "with_message_history = RunnableWithMessageHistory(chain,get_session_history)"
   ]
  },
  {
   "cell_type": "code",
   "execution_count": 18,
   "id": "f392980a",
   "metadata": {},
   "outputs": [
    {
     "data": {
      "text/plain": [
       "AIMessage(content=\"Hi Shubham! It's so nice to meet you! 👋  \\n\\nWhat can I do for you today? I'm happy to answer any questions you have or just chat about whatever's on your mind. 😊 \\n\\n\", additional_kwargs={}, response_metadata={'token_usage': {'completion_tokens': 51, 'prompt_tokens': 46, 'total_tokens': 97, 'completion_time': 0.092727273, 'prompt_time': 0.001705429, 'queue_time': 0.24976553199999998, 'total_time': 0.094432702}, 'model_name': 'Gemma2-9b-It', 'system_fingerprint': 'fp_10c08bf97d', 'service_tier': 'on_demand', 'finish_reason': 'stop', 'logprobs': None}, id='run--f3652ecc-cfe6-4077-9d40-8c822d49ca63-0', usage_metadata={'input_tokens': 46, 'output_tokens': 51, 'total_tokens': 97})"
      ]
     },
     "execution_count": 18,
     "metadata": {},
     "output_type": "execute_result"
    }
   ],
   "source": [
    "config = {\"configurable\":{\"session_id\":\"chat3\"}}\n",
    "response = with_message_history.invoke(\n",
    "    [HumanMessage(content=\"Hi my name is Shubham\")],\n",
    "    config = config\n",
    ")\n",
    "\n",
    "response"
   ]
  },
  {
   "cell_type": "code",
   "execution_count": 19,
   "id": "92ad80e2",
   "metadata": {},
   "outputs": [],
   "source": [
    "prompt = ChatPromptTemplate.from_messages(\n",
    "    [\n",
    "        (\"system\",\"You are a helpful assistant. Answer all the question to the best of your ability in this {language}. You should be very friendly and anyone should love to talk with you.\"),\n",
    "        MessagesPlaceholder(variable_name=\"messages\")\n",
    "    ]\n",
    ")\n",
    "\n",
    "chain = prompt|model"
   ]
  },
  {
   "cell_type": "code",
   "execution_count": 20,
   "id": "b55bcea8",
   "metadata": {},
   "outputs": [
    {
     "data": {
      "text/plain": [
       "'नमस्ते Shubham! 😊  \\n\\nबहुत ही अच्छा है तुम्हें यहाँ देखकर!  मुझे बहुत खुशी है कि तुम मेरे साथ बात करना चाह रहे हो। \\n\\nक्या मैं तुम्हारे लिए कुछ कर सकता हूँ?  😜\\n\\n'"
      ]
     },
     "execution_count": 20,
     "metadata": {},
     "output_type": "execute_result"
    }
   ],
   "source": [
    "response = chain.invoke({\"messages\":[HumanMessage(content=\"Hi my name is Shubham\")],\"language\":\"Hindi\"})\n",
    "response.content"
   ]
  },
  {
   "cell_type": "code",
   "execution_count": 21,
   "id": "6837f983",
   "metadata": {},
   "outputs": [],
   "source": [
    "with_message_history = RunnableWithMessageHistory(\n",
    "    chain,\n",
    "    get_session_history,\n",
    "    input_messages_key=\"messages\"\n",
    ")"
   ]
  },
  {
   "cell_type": "code",
   "execution_count": 22,
   "id": "f2ddb53e",
   "metadata": {},
   "outputs": [],
   "source": [
    "config = {\"configurable\":{\"session_id\":\"chat4\"}}\n",
    "response = with_message_history.invoke(\n",
    "    {'messages': [HumanMessage(content=\"Hi my name is Shubham\")],\"language\":\"Hindi\"},\n",
    "    config = config\n",
    ")"
   ]
  },
  {
   "cell_type": "code",
   "execution_count": 23,
   "id": "fd5f1b8a",
   "metadata": {},
   "outputs": [
    {
     "data": {
      "text/plain": [
       "'नमस्ते Shubham! 😊 \\n\\nबहुत अच्छा है तुम्हें यहाँ देखकर। क्या मैं तुम्हें कुछ मदद कर सकता हूँ?  \\n \\nशुक्रिया! आपसे बात करना बहुत अच्छा लग रहा है। 😊  \\n\\n'"
      ]
     },
     "execution_count": 23,
     "metadata": {},
     "output_type": "execute_result"
    }
   ],
   "source": [
    "response.content"
   ]
  },
  {
   "cell_type": "code",
   "execution_count": 24,
   "id": "67efaa3c",
   "metadata": {},
   "outputs": [
    {
     "data": {
      "text/plain": [
       "'आपका नाम Shubham है! 😊 \\n\\n\\n'"
      ]
     },
     "execution_count": 24,
     "metadata": {},
     "output_type": "execute_result"
    }
   ],
   "source": [
    "response = with_message_history.invoke(\n",
    "    {'messages': [HumanMessage(content=\"Whats my name?\")],\"language\":\"Hindi\"},\n",
    "    config = config\n",
    ")\n",
    "response.content"
   ]
  },
  {
   "cell_type": "markdown",
   "id": "9053c599",
   "metadata": {},
   "source": [
    "### Managing conversation history\n"
   ]
  },
  {
   "cell_type": "code",
   "execution_count": 27,
   "id": "b86f6bdf",
   "metadata": {},
   "outputs": [
    {
     "name": "stderr",
     "output_type": "stream",
     "text": [
      "d:\\AI Udemy Course\\Langchain\\venv\\Lib\\site-packages\\tqdm\\auto.py:21: TqdmWarning: IProgress not found. Please update jupyter and ipywidgets. See https://ipywidgets.readthedocs.io/en/stable/user_install.html\n",
      "  from .autonotebook import tqdm as notebook_tqdm\n",
      "d:\\AI Udemy Course\\Langchain\\venv\\Lib\\site-packages\\huggingface_hub\\file_download.py:143: UserWarning: `huggingface_hub` cache-system uses symlinks by default to efficiently store duplicated files but your machine does not support them in C:\\Users\\asus\\.cache\\huggingface\\hub\\models--gpt2. Caching files will still work but in a degraded version that might require more space on your disk. This warning can be disabled by setting the `HF_HUB_DISABLE_SYMLINKS_WARNING` environment variable. For more details, see https://huggingface.co/docs/huggingface_hub/how-to-cache#limitations.\n",
      "To support symlinks on Windows, you either need to activate Developer Mode or to run Python as an administrator. In order to activate developer mode, see this article: https://docs.microsoft.com/en-us/windows/apps/get-started/enable-your-device-for-development\n",
      "  warnings.warn(message)\n"
     ]
    },
    {
     "data": {
      "text/plain": [
       "[SystemMessage(content=\"You're a good assistant\", additional_kwargs={}, response_metadata={}),\n",
       " HumanMessage(content='I want to thank my manager for the promotion.', additional_kwargs={}, response_metadata={}),\n",
       " AIMessage(content='Nice! Congratulations.', additional_kwargs={}, response_metadata={}),\n",
       " HumanMessage(content='Can you draft it for me?', additional_kwargs={}, response_metadata={}),\n",
       " AIMessage(content='Yes, one moment.', additional_kwargs={}, response_metadata={}),\n",
       " HumanMessage(content='Also, make it sound professional.', additional_kwargs={}, response_metadata={}),\n",
       " AIMessage(content='Got it.', additional_kwargs={}, response_metadata={}),\n",
       " HumanMessage(content='Thanks!', additional_kwargs={}, response_metadata={}),\n",
       " AIMessage(content='Anytime!', additional_kwargs={}, response_metadata={})]"
      ]
     },
     "execution_count": 27,
     "metadata": {},
     "output_type": "execute_result"
    }
   ],
   "source": [
    "## Managing conversation history\n",
    "\n",
    "from langchain_core.messages import SystemMessage,trim_messages\n",
    "\n",
    "trimmer = trim_messages(\n",
    "    max_tokens = 70,\n",
    "    strategy=\"last\",\n",
    "    token_counter = model,\n",
    "    include_system = True,\n",
    "    allow_partial = False,\n",
    "    start_on=\"human\"\n",
    ")\n",
    "\n",
    "messages = [\n",
    "\n",
    "    SystemMessage(content=\"You're a good assistant\"),\n",
    "    HumanMessage(content=\"Hi! I'm Bob\"),\n",
    "    AIMessage(content=\"Hi Bob!\"),\n",
    "    HumanMessage(content=\"Can you help me write a short email?\"),\n",
    "    AIMessage(content=\"Sure, go ahead.\"),\n",
    "    HumanMessage(content=\"I want to thank my manager for the promotion.\"),\n",
    "    AIMessage(content=\"Nice! Congratulations.\"),\n",
    "    HumanMessage(content=\"Can you draft it for me?\"),\n",
    "    AIMessage(content=\"Yes, one moment.\"),\n",
    "    HumanMessage(content=\"Also, make it sound professional.\"),\n",
    "    AIMessage(content=\"Got it.\"),\n",
    "    HumanMessage(content=\"Thanks!\"),\n",
    "    AIMessage(content=\"Anytime!\"),\n",
    "\n",
    "]\n",
    "\n",
    "trimmer.invoke(messages)"
   ]
  },
  {
   "cell_type": "code",
   "execution_count": 32,
   "id": "07e995a7",
   "metadata": {},
   "outputs": [],
   "source": [
    "from operator import itemgetter\n",
    "\n",
    "from langchain_core.runnables import RunnablePassthrough\n",
    "\n",
    "chain = (\n",
    "    RunnablePassthrough.assign(messages=itemgetter(\"messages\")|trimmer)\n",
    "    | prompt\n",
    "    | model\n",
    ")\n",
    "\n",
    "response = chain.invoke(\n",
    "    {\n",
    "    \"messages\": messages + [HumanMessage(content=\"What task i gave to you?\")],\n",
    "    \"language\":\"English\"\n",
    "    }\n",
    ")"
   ]
  },
  {
   "cell_type": "code",
   "execution_count": 33,
   "id": "1b38c472",
   "metadata": {},
   "outputs": [
    {
     "data": {
      "text/plain": [
       "\"You asked me to draft something for you, and to make it sound professional.  \\n\\nIs there anything else I can help you with? Perhaps you could tell me what you'd like me to draft so I can get started! 😊  \\n\""
      ]
     },
     "execution_count": 33,
     "metadata": {},
     "output_type": "execute_result"
    }
   ],
   "source": [
    "response.content"
   ]
  },
  {
   "cell_type": "code",
   "execution_count": 34,
   "id": "608308f8",
   "metadata": {},
   "outputs": [],
   "source": [
    "## Lets wrap this in the message history\n",
    "\n",
    "with_message_history = RunnableWithMessageHistory(\n",
    "    chain,\n",
    "    get_session_history,\n",
    "    input_messages_key=\"messages\"\n",
    ")\n",
    "\n",
    "config ={\"configurable\":{\"session_id\":\"chat5\"}}"
   ]
  },
  {
   "cell_type": "code",
   "execution_count": 41,
   "id": "018bde85",
   "metadata": {},
   "outputs": [
    {
     "data": {
      "text/plain": [
       "\"It's lovely to meet you, Shubham!  I'll remember your name.  What can I do for you today? 😊  \\n\""
      ]
     },
     "execution_count": 41,
     "metadata": {},
     "output_type": "execute_result"
    }
   ],
   "source": [
    "response = with_message_history.invoke(\n",
    "    {\n",
    "    \"messages\": [HumanMessage(content=\"My name is Shubham, remember my name\")],\n",
    "    \"language\":\"English\"\n",
    "    },\n",
    "    config=config\n",
    ")\n",
    "\n",
    "response.content"
   ]
  },
  {
   "cell_type": "code",
   "execution_count": 42,
   "id": "c0c2a811",
   "metadata": {},
   "outputs": [
    {
     "data": {
      "text/plain": [
       "AIMessage(content='Your name is Shubham!  Nice to meet you, Shubham!  \\n\\nIs there anything else I can help you with?\\n', additional_kwargs={}, response_metadata={'token_usage': {'completion_tokens': 30, 'prompt_tokens': 105, 'total_tokens': 135, 'completion_time': 0.054545455, 'prompt_time': 0.00274399, 'queue_time': 0.25286348000000003, 'total_time': 0.057289445}, 'model_name': 'Gemma2-9b-It', 'system_fingerprint': 'fp_10c08bf97d', 'service_tier': 'on_demand', 'finish_reason': 'stop', 'logprobs': None}, id='run--2c299ccd-331f-41ab-becc-a75d20545ea3-0', usage_metadata={'input_tokens': 105, 'output_tokens': 30, 'total_tokens': 135})"
      ]
     },
     "execution_count": 42,
     "metadata": {},
     "output_type": "execute_result"
    }
   ],
   "source": [
    "with_message_history.invoke(\n",
    "    {\n",
    "    \"messages\": [HumanMessage(content=\"What is my name?\")],\n",
    "    \"language\":\"English\"\n",
    "    },\n",
    "    config=config\n",
    ")"
   ]
  },
  {
   "cell_type": "code",
   "execution_count": 43,
   "id": "ba9c8bbf",
   "metadata": {},
   "outputs": [
    {
     "data": {
      "text/plain": [
       "InMemoryChatMessageHistory(messages=[SystemMessage(content=\"You're a good assistant\", additional_kwargs={}, response_metadata={}), HumanMessage(content=\"Hi! I'm Bob\", additional_kwargs={}, response_metadata={}), AIMessage(content='Hi Bob!', additional_kwargs={}, response_metadata={}), HumanMessage(content='Can you help me write a short email?', additional_kwargs={}, response_metadata={}), AIMessage(content='Sure, go ahead.', additional_kwargs={}, response_metadata={}), HumanMessage(content='I want to thank my manager for the promotion.', additional_kwargs={}, response_metadata={}), AIMessage(content='Nice! Congratulations.', additional_kwargs={}, response_metadata={}), HumanMessage(content='Can you draft it for me?', additional_kwargs={}, response_metadata={}), AIMessage(content='Yes, one moment.', additional_kwargs={}, response_metadata={}), HumanMessage(content='Also, make it sound professional.', additional_kwargs={}, response_metadata={}), AIMessage(content='Got it.', additional_kwargs={}, response_metadata={}), HumanMessage(content='Thanks!', additional_kwargs={}, response_metadata={}), AIMessage(content='Anytime!', additional_kwargs={}, response_metadata={}), HumanMessage(content='Whats my name?', additional_kwargs={}, response_metadata={}), AIMessage(content=\"You haven't told me your name yet!  What would you like me to call you? 😊  \\n\\n\\n\\n\", additional_kwargs={}, response_metadata={'token_usage': {'completion_tokens': 26, 'prompt_tokens': 134, 'total_tokens': 160, 'completion_time': 0.047272727, 'prompt_time': 0.003749029, 'queue_time': 0.251150121, 'total_time': 0.051021756}, 'model_name': 'Gemma2-9b-It', 'system_fingerprint': 'fp_10c08bf97d', 'service_tier': 'on_demand', 'finish_reason': 'stop', 'logprobs': None}, id='run--7bcd4bec-205a-4cbb-ab69-4e6328373666-0', usage_metadata={'input_tokens': 134, 'output_tokens': 26, 'total_tokens': 160}), SystemMessage(content=\"You're a good assistant\", additional_kwargs={}, response_metadata={}), HumanMessage(content=\"Hi! I'm Bob\", additional_kwargs={}, response_metadata={}), AIMessage(content='Hi Bob!', additional_kwargs={}, response_metadata={}), HumanMessage(content='Can you help me write a short email?', additional_kwargs={}, response_metadata={}), AIMessage(content='Sure, go ahead.', additional_kwargs={}, response_metadata={}), HumanMessage(content='I want to thank my manager for the promotion.', additional_kwargs={}, response_metadata={}), AIMessage(content='Nice! Congratulations.', additional_kwargs={}, response_metadata={}), HumanMessage(content='Can you draft it for me?', additional_kwargs={}, response_metadata={}), AIMessage(content='Yes, one moment.', additional_kwargs={}, response_metadata={}), HumanMessage(content='Also, make it sound professional.', additional_kwargs={}, response_metadata={}), AIMessage(content='Got it.', additional_kwargs={}, response_metadata={}), HumanMessage(content='Thanks!', additional_kwargs={}, response_metadata={}), AIMessage(content='Anytime!', additional_kwargs={}, response_metadata={}), HumanMessage(content='My name is Shubham, remember my name', additional_kwargs={}, response_metadata={}), AIMessage(content=\"Hello Shubham! It's a pleasure to meet you. I'll be sure to remember your name.  \\n\\nWhat can I do for you today?  😊 \\n\", additional_kwargs={}, response_metadata={'token_usage': {'completion_tokens': 39, 'prompt_tokens': 115, 'total_tokens': 154, 'completion_time': 0.070909091, 'prompt_time': 0.002886559, 'queue_time': 0.251754967, 'total_time': 0.07379565}, 'model_name': 'Gemma2-9b-It', 'system_fingerprint': 'fp_10c08bf97d', 'service_tier': 'on_demand', 'finish_reason': 'stop', 'logprobs': None}, id='run--cc086be2-e5a8-446a-acb9-dd129774c5e2-0', usage_metadata={'input_tokens': 115, 'output_tokens': 39, 'total_tokens': 154}), SystemMessage(content=\"You're a good assistant\", additional_kwargs={}, response_metadata={}), HumanMessage(content=\"Hi! I'm Bob\", additional_kwargs={}, response_metadata={}), AIMessage(content='Hi Bob!', additional_kwargs={}, response_metadata={}), HumanMessage(content='Can you help me write a short email?', additional_kwargs={}, response_metadata={}), AIMessage(content='Sure, go ahead.', additional_kwargs={}, response_metadata={}), HumanMessage(content='I want to thank my manager for the promotion.', additional_kwargs={}, response_metadata={}), AIMessage(content='Nice! Congratulations.', additional_kwargs={}, response_metadata={}), HumanMessage(content='Can you draft it for me?', additional_kwargs={}, response_metadata={}), AIMessage(content='Yes, one moment.', additional_kwargs={}, response_metadata={}), HumanMessage(content='Also, make it sound professional.', additional_kwargs={}, response_metadata={}), AIMessage(content='Got it.', additional_kwargs={}, response_metadata={}), HumanMessage(content='Thanks!', additional_kwargs={}, response_metadata={}), AIMessage(content='Anytime!', additional_kwargs={}, response_metadata={}), HumanMessage(content='What is my name?', additional_kwargs={}, response_metadata={}), AIMessage(content=\"As an AI, I don't have access to any personal information about you, including your name.  \\n\\nWould you like to tell me your name? I'd love to know! 😊  \\n\\n\\n\\n\", additional_kwargs={}, response_metadata={'token_usage': {'completion_tokens': 45, 'prompt_tokens': 111, 'total_tokens': 156, 'completion_time': 0.081818182, 'prompt_time': 0.002817089, 'queue_time': 0.251058661, 'total_time': 0.084635271}, 'model_name': 'Gemma2-9b-It', 'system_fingerprint': 'fp_10c08bf97d', 'service_tier': 'on_demand', 'finish_reason': 'stop', 'logprobs': None}, id='run--68de3f52-8433-49aa-aec2-fdad60d0f9c6-0', usage_metadata={'input_tokens': 111, 'output_tokens': 45, 'total_tokens': 156}), SystemMessage(content=\"You're a good assistant\", additional_kwargs={}, response_metadata={}), HumanMessage(content=\"Hi! I'm Bob\", additional_kwargs={}, response_metadata={}), AIMessage(content='Hi Bob!', additional_kwargs={}, response_metadata={}), HumanMessage(content='Can you help me write a short email?', additional_kwargs={}, response_metadata={}), AIMessage(content='Sure, go ahead.', additional_kwargs={}, response_metadata={}), HumanMessage(content='I want to thank my manager for the promotion.', additional_kwargs={}, response_metadata={}), AIMessage(content='Nice! Congratulations.', additional_kwargs={}, response_metadata={}), HumanMessage(content='Can you draft it for me?', additional_kwargs={}, response_metadata={}), AIMessage(content='Yes, one moment.', additional_kwargs={}, response_metadata={}), HumanMessage(content='Also, make it sound professional.', additional_kwargs={}, response_metadata={}), AIMessage(content='Got it.', additional_kwargs={}, response_metadata={}), HumanMessage(content='Thanks!', additional_kwargs={}, response_metadata={}), AIMessage(content='Anytime!', additional_kwargs={}, response_metadata={}), HumanMessage(content='What is my name?', additional_kwargs={}, response_metadata={}), AIMessage(content=\"As a helpful and friendly AI assistant, I don't have access to any personal information about you, including your name.  Would you like to tell me your name? 😄 \\n\\n\\n\\n\", additional_kwargs={}, response_metadata={'token_usage': {'completion_tokens': 41, 'prompt_tokens': 111, 'total_tokens': 152, 'completion_time': 0.074545455, 'prompt_time': 0.003285159, 'queue_time': 0.25074693600000003, 'total_time': 0.077830614}, 'model_name': 'Gemma2-9b-It', 'system_fingerprint': 'fp_10c08bf97d', 'service_tier': 'on_demand', 'finish_reason': 'stop', 'logprobs': None}, id='run--f0e34083-de4c-4e0d-9e8d-0aa5efe98a93-0', usage_metadata={'input_tokens': 111, 'output_tokens': 41, 'total_tokens': 152}), HumanMessage(content='My name is Shubham, remember my name', additional_kwargs={}, response_metadata={}), AIMessage(content=\"It's lovely to meet you, Shubham!  I'll remember your name.  What can I do for you today? 😊  \\n\", additional_kwargs={}, response_metadata={'token_usage': {'completion_tokens': 33, 'prompt_tokens': 112, 'total_tokens': 145, 'completion_time': 0.06, 'prompt_time': 0.003285629, 'queue_time': 0.255567021, 'total_time': 0.063285629}, 'model_name': 'Gemma2-9b-It', 'system_fingerprint': 'fp_10c08bf97d', 'service_tier': 'on_demand', 'finish_reason': 'stop', 'logprobs': None}, id='run--e7d86b30-6640-43f6-9a7a-57b331070b96-0', usage_metadata={'input_tokens': 112, 'output_tokens': 33, 'total_tokens': 145}), HumanMessage(content='What is my name?', additional_kwargs={}, response_metadata={}), AIMessage(content='Your name is Shubham!  Nice to meet you, Shubham!  \\n\\nIs there anything else I can help you with?\\n', additional_kwargs={}, response_metadata={'token_usage': {'completion_tokens': 30, 'prompt_tokens': 105, 'total_tokens': 135, 'completion_time': 0.054545455, 'prompt_time': 0.00274399, 'queue_time': 0.25286348000000003, 'total_time': 0.057289445}, 'model_name': 'Gemma2-9b-It', 'system_fingerprint': 'fp_10c08bf97d', 'service_tier': 'on_demand', 'finish_reason': 'stop', 'logprobs': None}, id='run--2c299ccd-331f-41ab-becc-a75d20545ea3-0', usage_metadata={'input_tokens': 105, 'output_tokens': 30, 'total_tokens': 135})])"
      ]
     },
     "execution_count": 43,
     "metadata": {},
     "output_type": "execute_result"
    }
   ],
   "source": [
    "get_session_history(\"chat5\")"
   ]
  },
  {
   "cell_type": "code",
   "execution_count": null,
   "id": "aaf158f8",
   "metadata": {},
   "outputs": [],
   "source": []
  }
 ],
 "metadata": {
  "kernelspec": {
   "display_name": "Python 3",
   "language": "python",
   "name": "python3"
  },
  "language_info": {
   "codemirror_mode": {
    "name": "ipython",
    "version": 3
   },
   "file_extension": ".py",
   "mimetype": "text/x-python",
   "name": "python",
   "nbconvert_exporter": "python",
   "pygments_lexer": "ipython3",
   "version": "3.13.5"
  }
 },
 "nbformat": 4,
 "nbformat_minor": 5
}
