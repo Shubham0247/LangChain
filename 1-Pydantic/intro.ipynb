{
 "cells": [
  {
   "cell_type": "code",
   "execution_count": 2,
   "id": "45122936",
   "metadata": {},
   "outputs": [],
   "source": [
    "from pydantic import BaseModel\n"
   ]
  },
  {
   "cell_type": "code",
   "execution_count": 3,
   "id": "797b2a8b",
   "metadata": {},
   "outputs": [
    {
     "name": "stdout",
     "output_type": "stream",
     "text": [
      "name='Shubham' age=34 city='Pune'\n"
     ]
    }
   ],
   "source": [
    "class Person(BaseModel):\n",
    "    name:str\n",
    "    age:int\n",
    "    city:str\n",
    "\n",
    "\n",
    "person=Person(name=\"Shubham\",age=34,city=\"Pune\")\n",
    "print(person)"
   ]
  },
  {
   "cell_type": "code",
   "execution_count": 4,
   "id": "b8e5d1a6",
   "metadata": {},
   "outputs": [],
   "source": [
    "# person1=Person(name=\"Shubham\",age=34,city=12)\n",
    "# print(person1)"
   ]
  },
  {
   "cell_type": "code",
   "execution_count": 5,
   "id": "b4c07a34",
   "metadata": {},
   "outputs": [
    {
     "name": "stdout",
     "output_type": "stream",
     "text": [
      "id=101 name='Shubham' department='CS' salary=10000.0 is_active=True\n",
      "id=103 name='Something' department='XYZ' salary=None is_active=True\n",
      "id=103 name='Anything' department='CSE' salary=10000.0 is_active=True\n",
      "id=104 name='Everything' department='ABC' salary=None is_active=True\n"
     ]
    }
   ],
   "source": [
    "## Model with optional fields\n",
    "\n",
    "from typing import Optional\n",
    "\n",
    "class Employee(BaseModel):\n",
    "    id:int\n",
    "    name:str\n",
    "    department: str\n",
    "    salary: Optional[float] = None # Optional with default value\n",
    "    is_active: Optional[bool] = True # Optional with default True\n",
    "\n",
    "emp1 = Employee(id=101,name=\"Shubham\",department=\"CS\",salary=10000,is_active=True)\n",
    "print(emp1)\n",
    "\n",
    "emp2 = Employee(id=103,name=\"Something\",department=\"XYZ\",is_active=True)\n",
    "print(emp2)\n",
    "\n",
    "emp3 = Employee(id=103,name=\"Anything\",department=\"CSE\",salary=10000)\n",
    "print(emp3)\n",
    "\n",
    "emp4 = Employee(id=104,name=\"Everything\",department=\"ABC\")\n",
    "print(emp4)"
   ]
  },
  {
   "cell_type": "code",
   "execution_count": 6,
   "id": "e623e7a5",
   "metadata": {},
   "outputs": [
    {
     "name": "stdout",
     "output_type": "stream",
     "text": [
      "name='Alice' age=25 email='alice@example.com'\n",
      "25\n"
     ]
    }
   ],
   "source": [
    "\n",
    "class Person(BaseModel):\n",
    "    name: str\n",
    "    age: int\n",
    "    email: str\n",
    "\n",
    "# input data\n",
    "data = {\n",
    "    \"name\": \"Alice\",\n",
    "    \"age\": \"25\",      # Note: age is a string!\n",
    "    \"email\": \"alice@example.com\"\n",
    "}\n",
    "\n",
    "# create a person object\n",
    "person = Person(**data)\n",
    "\n",
    "print(person)\n",
    "print(person.age)  # Automatically converted to integer!"
   ]
  },
  {
   "cell_type": "code",
   "execution_count": 7,
   "id": "0ea8e63c",
   "metadata": {},
   "outputs": [
    {
     "name": "stdout",
     "output_type": "stream",
     "text": [
      "room_number=101 students=['Alice', 'Shubham', 'Bob'] capacity=3\n"
     ]
    }
   ],
   "source": [
    "from pydantic import BaseModel\n",
    "from typing import List\n",
    "\n",
    "class Classroom(BaseModel):\n",
    "    room_number:int\n",
    "    students: List[str]\n",
    "    capacity: int\n",
    "\n",
    "data = {\n",
    "    \"room_number\": 101,\n",
    "    \"students\": {\"Shubham\",\"Alice\",\"Bob\"},\n",
    "    \"capacity\": 3\n",
    "}\n",
    "class1 = Classroom(**data)\n",
    "print(class1)"
   ]
  },
  {
   "cell_type": "code",
   "execution_count": 8,
   "id": "1a4da5f7",
   "metadata": {},
   "outputs": [
    {
     "name": "stdout",
     "output_type": "stream",
     "text": [
      "2 validation errors for Classroom\n",
      "room_number\n",
      "  Input should be a valid integer, unable to parse string as an integer [type=int_parsing, input_value='A1', input_type=str]\n",
      "    For further information visit https://errors.pydantic.dev/2.11/v/int_parsing\n",
      "students.1\n",
      "  Input should be a valid string [type=string_type, input_value=20, input_type=int]\n",
      "    For further information visit https://errors.pydantic.dev/2.11/v/string_type\n"
     ]
    }
   ],
   "source": [
    "try:\n",
    "    invalid_val = Classroom(room_number=\"A1\",students=[\"Shub\",20],capacity=32)\n",
    "except ValueError as e:\n",
    "    print(e)"
   ]
  },
  {
   "cell_type": "code",
   "execution_count": 9,
   "id": "7f0561cc",
   "metadata": {},
   "outputs": [
    {
     "name": "stdout",
     "output_type": "stream",
     "text": [
      "customer_id=1 name='Emma' address=Address(street='123 main st', city='Pune', zip_code=2108)\n"
     ]
    }
   ],
   "source": [
    "### Create complex structures with nested models:\n",
    "\n",
    "from pydantic import BaseModel\n",
    "\n",
    "class Address(BaseModel):\n",
    "    street: str\n",
    "    city: str\n",
    "    zip_code: int\n",
    "\n",
    "class Customer(BaseModel):\n",
    "    customer_id: int\n",
    "    name: str\n",
    "    address: Address # Nested model\n",
    "\n",
    "customer = Customer(\n",
    "    customer_id=1,\n",
    "    name=\"Emma\",\n",
    "    address={\"street\":\"123 main st\", \"city\":\"Pune\", \"zip_code\":\"02108\"}\n",
    "    # address=Address(street=\"Sr 12\", city=\"Pune\", zip_code=\"412308\")\n",
    ")\n",
    "\n",
    "print(customer)"
   ]
  },
  {
   "cell_type": "code",
   "execution_count": 10,
   "id": "d6fe89b9",
   "metadata": {},
   "outputs": [
    {
     "name": "stdout",
     "output_type": "stream",
     "text": [
      "name='Book' price=1.0 quantity=0\n"
     ]
    }
   ],
   "source": [
    "from pydantic import BaseModel,Field\n",
    "\n",
    "class Item(BaseModel):\n",
    "    name:str=Field(min_length=2,max_length=20)\n",
    "    price:float=Field(gt=0,le=1000)\n",
    "    quantity:int=Field(ge=0)\n",
    "\n",
    "## Valid instance\n",
    "item = Item(name=\"Book\",price=1,quantity=0)\n",
    "\n",
    "print(item)"
   ]
  },
  {
   "cell_type": "code",
   "execution_count": 11,
   "id": "a23608c8",
   "metadata": {},
   "outputs": [
    {
     "name": "stdout",
     "output_type": "stream",
     "text": [
      "username='alice' age=18 email='user@example.com'\n",
      "username='bob' age=25 email='bob@domain.com'\n"
     ]
    }
   ],
   "source": [
    "from pydantic import BaseModel,Field\n",
    "\n",
    "class User(BaseModel):\n",
    "    username: str=Field(..., description=\"Unique username for the user\")\n",
    "    age: int=Field(gt=0, default=18, description=\"User age, defaults to 18\")\n",
    "    email: str = Field(default_factory=lambda:\"user@example.com\", description=\"Default email address\")\n",
    "\n",
    "user1 = User(username=\"alice\")\n",
    "print(user1)\n",
    "\n",
    "user2 = User(username=\"bob\", age=25, email=\"bob@domain.com\")\n",
    "print(user2)"
   ]
  },
  {
   "cell_type": "code",
   "execution_count": 13,
   "id": "07ef09bd",
   "metadata": {},
   "outputs": [
    {
     "name": "stdout",
     "output_type": "stream",
     "text": [
      "{'properties': {'username': {'description': 'Unique username for the user', 'title': 'Username', 'type': 'string'}, 'age': {'default': 18, 'description': 'User age, defaults to 18', 'exclusiveMinimum': 0, 'title': 'Age', 'type': 'integer'}, 'email': {'description': 'Default email address', 'title': 'Email', 'type': 'string'}}, 'required': ['username'], 'title': 'User', 'type': 'object'}\n"
     ]
    }
   ],
   "source": [
    "print(User.model_json_schema())"
   ]
  },
  {
   "cell_type": "code",
   "execution_count": null,
   "id": "37447a67",
   "metadata": {},
   "outputs": [],
   "source": []
  }
 ],
 "metadata": {
  "kernelspec": {
   "display_name": "Python 3",
   "language": "python",
   "name": "python3"
  },
  "language_info": {
   "codemirror_mode": {
    "name": "ipython",
    "version": 3
   },
   "file_extension": ".py",
   "mimetype": "text/x-python",
   "name": "python",
   "nbconvert_exporter": "python",
   "pygments_lexer": "ipython3",
   "version": "3.9.23"
  }
 },
 "nbformat": 4,
 "nbformat_minor": 5
}
