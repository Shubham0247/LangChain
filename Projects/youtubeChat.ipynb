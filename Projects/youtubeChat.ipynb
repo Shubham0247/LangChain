{
 "cells": [
  {
   "cell_type": "code",
   "execution_count": 1,
   "id": "4664911d",
   "metadata": {},
   "outputs": [
    {
     "data": {
      "text/plain": [
       "True"
      ]
     },
     "execution_count": 1,
     "metadata": {},
     "output_type": "execute_result"
    }
   ],
   "source": [
    "import os\n",
    "from dotenv import load_dotenv\n",
    "load_dotenv()"
   ]
  },
  {
   "cell_type": "code",
   "execution_count": 2,
   "id": "7ff1c500",
   "metadata": {},
   "outputs": [
    {
     "name": "stdout",
     "output_type": "stream",
     "text": [
      "False\n"
     ]
    }
   ],
   "source": [
    "from youtube_transcript_api import YouTubeTranscriptApi\n",
    "print(hasattr(YouTubeTranscriptApi, \"list_transcripts\"))"
   ]
  },
  {
   "cell_type": "code",
   "execution_count": 3,
   "id": "1ddf652c",
   "metadata": {},
   "outputs": [
    {
     "name": "stdout",
     "output_type": "stream",
     "text": [
      "d:\\AI Udemy Course\\Langchain\\venv\\Lib\\site-packages\\youtube_transcript_api\\__init__.py\n"
     ]
    }
   ],
   "source": [
    "import youtube_transcript_api\n",
    "print(youtube_transcript_api.__file__)"
   ]
  },
  {
   "cell_type": "code",
   "execution_count": 5,
   "id": "8752d661",
   "metadata": {},
   "outputs": [],
   "source": [
    "# from youtube_transcript_api import YouTubeTranscriptApi\n",
    "\n",
    "# video_id = \"LPZh9BOjkQs\"\n",
    "# transcript_list = YouTubeTranscriptApi.list(video_id)\n",
    "# print(transcript_list)\n",
    "\n",
    "from youtube_transcript_api import YouTubeTranscriptApi\n",
    "\n",
    "api = YouTubeTranscriptApi()\n",
    "video_id = \"LPZh9BOjkQs\"\n",
    "transcript_list = api.list(video_id)"
   ]
  },
  {
   "cell_type": "code",
   "execution_count": 6,
   "id": "48738f7b",
   "metadata": {},
   "outputs": [
    {
     "name": "stdout",
     "output_type": "stream",
     "text": [
      "Arabic False\n"
     ]
    },
    {
     "ename": "IpBlocked",
     "evalue": "\nCould not retrieve a transcript for the video https://www.youtube.com/watch?v=LPZh9BOjkQs! This is most likely caused by:\n\nYouTube is blocking requests from your IP. This usually is due to one of the following reasons:\n- You have done too many requests and your IP has been blocked by YouTube\n- You are doing requests from an IP belonging to a cloud provider (like AWS, Google Cloud Platform, Azure, etc.). Unfortunately, most IPs from cloud providers are blocked by YouTube.\n\nWays to work around this are explained in the \"Working around IP bans\" section of the README (https://github.com/jdepoix/youtube-transcript-api?tab=readme-ov-file#working-around-ip-bans-requestblocked-or-ipblocked-exception).\n\n\nIf you are sure that the described cause is not responsible for this error and that a transcript should be retrievable, please create an issue at https://github.com/jdepoix/youtube-transcript-api/issues. Please add which version of youtube_transcript_api you are using and provide the information needed to replicate the error. Also make sure that there are no open issues which already describe your problem!",
     "output_type": "error",
     "traceback": [
      "\u001b[31m---------------------------------------------------------------------------\u001b[39m",
      "\u001b[31mIpBlocked\u001b[39m                                 Traceback (most recent call last)",
      "\u001b[36mCell\u001b[39m\u001b[36m \u001b[39m\u001b[32mIn[6]\u001b[39m\u001b[32m, line 3\u001b[39m\n\u001b[32m      1\u001b[39m \u001b[38;5;28;01mfor\u001b[39;00m transcript \u001b[38;5;129;01min\u001b[39;00m transcript_list:\n\u001b[32m      2\u001b[39m     \u001b[38;5;28mprint\u001b[39m(transcript.language, transcript.is_generated)\n\u001b[32m----> \u001b[39m\u001b[32m3\u001b[39m     \u001b[38;5;28mprint\u001b[39m(\u001b[43mtranscript\u001b[49m\u001b[43m.\u001b[49m\u001b[43mfetch\u001b[49m\u001b[43m(\u001b[49m\u001b[43m)\u001b[49m)\n",
      "\u001b[36mFile \u001b[39m\u001b[32md:\\AI Udemy Course\\Langchain\\venv\\Lib\\site-packages\\youtube_transcript_api\\_transcripts.py:139\u001b[39m, in \u001b[36mTranscript.fetch\u001b[39m\u001b[34m(self, preserve_formatting)\u001b[39m\n\u001b[32m    136\u001b[39m     \u001b[38;5;28;01mraise\u001b[39;00m PoTokenRequired(\u001b[38;5;28mself\u001b[39m.video_id)\n\u001b[32m    137\u001b[39m response = \u001b[38;5;28mself\u001b[39m._http_client.get(\u001b[38;5;28mself\u001b[39m._url)\n\u001b[32m    138\u001b[39m snippets = _TranscriptParser(preserve_formatting=preserve_formatting).parse(\n\u001b[32m--> \u001b[39m\u001b[32m139\u001b[39m     \u001b[43m_raise_http_errors\u001b[49m\u001b[43m(\u001b[49m\u001b[43mresponse\u001b[49m\u001b[43m,\u001b[49m\u001b[43m \u001b[49m\u001b[38;5;28;43mself\u001b[39;49m\u001b[43m.\u001b[49m\u001b[43mvideo_id\u001b[49m\u001b[43m)\u001b[49m.text,\n\u001b[32m    140\u001b[39m )\n\u001b[32m    141\u001b[39m \u001b[38;5;28;01mreturn\u001b[39;00m FetchedTranscript(\n\u001b[32m    142\u001b[39m     snippets=snippets,\n\u001b[32m    143\u001b[39m     video_id=\u001b[38;5;28mself\u001b[39m.video_id,\n\u001b[32m   (...)\u001b[39m\u001b[32m    146\u001b[39m     is_generated=\u001b[38;5;28mself\u001b[39m.is_generated,\n\u001b[32m    147\u001b[39m )\n",
      "\u001b[36mFile \u001b[39m\u001b[32md:\\AI Udemy Course\\Langchain\\venv\\Lib\\site-packages\\youtube_transcript_api\\_transcripts.py:96\u001b[39m, in \u001b[36m_raise_http_errors\u001b[39m\u001b[34m(response, video_id)\u001b[39m\n\u001b[32m     94\u001b[39m \u001b[38;5;28;01mtry\u001b[39;00m:\n\u001b[32m     95\u001b[39m     \u001b[38;5;28;01mif\u001b[39;00m response.status_code == \u001b[32m429\u001b[39m:\n\u001b[32m---> \u001b[39m\u001b[32m96\u001b[39m         \u001b[38;5;28;01mraise\u001b[39;00m IpBlocked(video_id)\n\u001b[32m     97\u001b[39m     response.raise_for_status()\n\u001b[32m     98\u001b[39m     \u001b[38;5;28;01mreturn\u001b[39;00m response\n",
      "\u001b[31mIpBlocked\u001b[39m: \nCould not retrieve a transcript for the video https://www.youtube.com/watch?v=LPZh9BOjkQs! This is most likely caused by:\n\nYouTube is blocking requests from your IP. This usually is due to one of the following reasons:\n- You have done too many requests and your IP has been blocked by YouTube\n- You are doing requests from an IP belonging to a cloud provider (like AWS, Google Cloud Platform, Azure, etc.). Unfortunately, most IPs from cloud providers are blocked by YouTube.\n\nWays to work around this are explained in the \"Working around IP bans\" section of the README (https://github.com/jdepoix/youtube-transcript-api?tab=readme-ov-file#working-around-ip-bans-requestblocked-or-ipblocked-exception).\n\n\nIf you are sure that the described cause is not responsible for this error and that a transcript should be retrievable, please create an issue at https://github.com/jdepoix/youtube-transcript-api/issues. Please add which version of youtube_transcript_api you are using and provide the information needed to replicate the error. Also make sure that there are no open issues which already describe your problem!"
     ]
    }
   ],
   "source": [
    "for transcript in transcript_list:\n",
    "    print(transcript.language, transcript.is_generated)\n",
    "    print(transcript.fetch())"
   ]
  },
  {
   "cell_type": "code",
   "execution_count": null,
   "id": "f80a7d88",
   "metadata": {},
   "outputs": [],
   "source": []
  },
  {
   "cell_type": "code",
   "execution_count": null,
   "id": "aa6b709d",
   "metadata": {},
   "outputs": [
    {
     "data": {
      "text/plain": [
       "True"
      ]
     },
     "execution_count": 11,
     "metadata": {},
     "output_type": "execute_result"
    }
   ],
   "source": []
  }
 ],
 "metadata": {
  "kernelspec": {
   "display_name": "Python 3",
   "language": "python",
   "name": "python3"
  },
  "language_info": {
   "codemirror_mode": {
    "name": "ipython",
    "version": 3
   },
   "file_extension": ".py",
   "mimetype": "text/x-python",
   "name": "python",
   "nbconvert_exporter": "python",
   "pygments_lexer": "ipython3",
   "version": "3.13.5"
  }
 },
 "nbformat": 4,
 "nbformat_minor": 5
}
