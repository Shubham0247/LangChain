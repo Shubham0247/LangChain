{
 "cells": [
  {
   "cell_type": "markdown",
   "id": "b07a2328",
   "metadata": {},
   "source": [
    "### Simple GenAI App using langchain"
   ]
  },
  {
   "cell_type": "code",
   "execution_count": 2,
   "id": "6a7d3063",
   "metadata": {},
   "outputs": [],
   "source": [
    "import os\n",
    "from dotenv import load_dotenv\n",
    "load_dotenv(override=True)\n",
    "\n",
    "os.environ[\"OPENAI_API_KEY\"] = os.getenv(\"OPENAI_API_KEY\")\n",
    "os.environ[\"LANGCHAIN_API_KEY\"] = os.getenv(\"LANGCHAIN_API_KEY\")\n",
    "os.environ[\"LANGCHAIN_TRACING_V2\"] = os.getenv(\"LANGCHAIN_TRACING_V2\")\n",
    "os.environ[\"LANGCHAIN_ENDPOINT\"] = os.getenv(\"LANGCHAIN_ENDPOINT\")\n",
    "os.environ[\"LANGCHAIN_PROJECT\"] = \"webpage-qna-using-langchain\""
   ]
  },
  {
   "cell_type": "markdown",
   "id": "2abaad31",
   "metadata": {},
   "source": [
    "#### Step 1:- Load the documents"
   ]
  },
  {
   "cell_type": "code",
   "execution_count": 3,
   "id": "eca049e5",
   "metadata": {},
   "outputs": [
    {
     "name": "stderr",
     "output_type": "stream",
     "text": [
      "USER_AGENT environment variable not set, consider setting it to identify your requests.\n"
     ]
    },
    {
     "data": {
      "text/plain": [
       "\"\\n\\n\\n\\n\\n\\n\\n\\n\\nWhat is LangGraph? | IBM\\n\\n\\n\\n\\n\\n\\n\\n\\n\\n\\n\\n\\n\\n\\n\\n\\n\\n\\n\\n\\n\\n\\n\\n\\n\\n\\n\\n\\n\\n\\n\\n\\n\\n\\n\\n\\n\\n\\n\\n\\n\\n\\n\\n\\n\\n\\n\\n\\n\\n\\n\\n\\n\\n\\n\\n\\n\\n\\n\\n\\n\\n\\n\\n\\n\\n\\n\\n\\n\\n\\n\\n\\n\\n\\n\\n\\n\\n\\n\\n\\n\\n\\n\\n                                   \\n\\n\\n\\n  \\n    What is LangGraph?\\n\\n\\n\\n\\n\\n\\n    \\n\\n\\n                               \\n\\n\\n\\n\\n\\n\\n\\n\\n\\n\\n\\n\\n\\n\\n\\n\\n\\n\\n\\n\\n\\n\\n\\n\\n\\n\\n\\n\\n\\n\\nAI Agents\\n\\n\\n\\nWelcome\\n\\n\\n\\n\\n\\nCaret right\\n\\nIntroduction\\n\\n\\n\\n\\nOverview\\n\\n\\n\\n\\nAI agents vs AI assistants\\n\\n\\n\\n\\nAgentic AI\\n\\n\\n\\n\\nAgentic AI vs generative AI\\n\\n\\n\\n\\nTypes of AI agents\\n\\n\\n\\n\\n\\n\\n\\nCaret right\\n\\nComponents\\n\\n\\n\\n\\nOverview\\n\\n\\n\\n\\nPerception\\n\\n\\n\\n\\nReasoning\\n\\n\\n\\n\\nMemory\\n\\n\\n\\n\\nPlanning\\n\\n\\n\\n\\n\\nCaret right\\n\\nTool calling\\n\\n\\n\\n\\nWhat is tool calling?\\n\\n\\n\\n\\nTutorial: Ollama tool calling\\n\\n\\n\\n\\n\\n\\nCommunication\\n\\n\\n\\n\\nLearning\\n\\n\\n\\n\\nAgentic workflows\\n\\n\\n\\n\\n\\n\\n\\nCaret right\\n\\nArchitecture\\n\\n\\n\\n\\nOverview\\n\\n\\n\\n\\nReAct\\n\\n\\n\\n\\n\\nCaret right\\n\\nReWOO\\n\\n\\n\\n\\nTutorial: ReWOO reasoning agent\\n\\n\\n\\n\\n\\n\\n\\nCaret right\\n\\nAI agent orchestration\\n\\n\\n\\n\\nWhat is agent orchestration?\\n\\n\\n\\n\\nTutorial: Agent orchestration\\n\\n\\n\\n\\n\\n\\n\\nCaret right\\n\\nMulti-agent systems\\n\\n\\n\\n\\nWhat are multi-agent systems?\\n\\n\\n\\n\\nTutorial: crewAI multi-agent call analysis\\n\\n\\n\\n\\n\\n\\nMulti-agent collaboration\\n\\n\\n\\n\\n\\n\\n\\nCaret right\\n\\nProtocols\\n\\n\\n\\n\\nAgent Communication Protocol (ACP)\\n\\n\\n\\n\\nModel Context Protocol (MCP)\\n\\n\\n\\n\\n\\n\\n\\nCaret right\\n\\nMulti-agent systems\\n\\n\\n\\n\\nWhat are multi-agent systems?\\n\\n\\n\\n\\nTutorial: crewAI multi-agent call analysis\\n\\n\\n\\n\\nWhat is agent orchestration?\\n\\n\\n\\n\\nTutorial: Agent orchestration\\n\\n\\n\\n\\nWhat is multi-agent collaboration?\\n\\n\\n\\n\\n\\n\\n\\nCaret right\\n\\nFrameworks\\n\\n\\n\\n\\nOverview\\n\\n\\n\\n\\nAutoGPT\\n\\n\\n\\n\\n\\nCaret right\\n\\nBeeAI\\n\\n\\n\\n\\nTutorial: BeeAI agentic contract management\\n\\n\\n\\n\\n\\n\\n\\nCaret right\\n\\nChatDev\\n\\n\\n\\n\\nWhat is ChatDev?\\n\\n\\n\\n\\nTutorial: ChatDev ChatChain\\n\\n\\n\\n\\n\\n\\n\\nCaret right\\n\\ncrewAI\\n\\n\\n\\n\\nWhat is crewAI?\\n\\n\\n\\n\\nTutorial: crewAI retail shelf optimization\\n\\n\\n\\n\\n\\n\\n\\nCaret right\\n\\nLangGraph\\n\\n\\n\\n\\nWhat is LangGraph?\\n\\n\\n\\n\\nTutorial: LangGraph IT support agent\\n\\n\\n\\n\\n\\n\\n\\nCaret right\\n\\nLangChain\\n\\n\\n\\n\\nWhat is LangChain?\\n\\n\\n\\n\\nTutorial: LangChain agent\\n\\n\\n\\n\\n\\n\\nMetaGPT\\n\\n\\n\\n\\n\\n\\n\\nCaret right\\n\\nGovernance\\n\\n\\n\\n\\nOverview\\n\\n\\n\\n\\nAI agent ethics\\n\\n\\n\\n\\n\\nCaret right\\n\\nAI agent evaluation\\n\\n\\n\\n\\nWhat is AI agent evaluation?\\n\\n\\n\\n\\nTutorial: AI agent evaluation\\n\\n\\n\\n\\n\\n\\n\\n\\n\\nCaret right\\n\\nAgentic RAG\\n\\n\\n\\n\\nOverview\\n\\n\\n\\n\\nTutorial: LangChain agentic RAG \\n\\n\\n\\n\\nTutorial: Agentic chunking for RAG\\n\\n\\n\\n\\n\\n\\n\\nCaret right\\n\\nUse cases / Applications\\n\\n\\n\\n\\nOverview\\n\\n\\n\\n\\nCustomer service\\n\\n\\n\\n\\nHuman resources\\n\\n\\n\\n\\nMarketing\\n\\n\\n\\n\\nSales\\n\\n\\n\\n\\nProcurement\\n\\n\\n\\n\\nAgentic automation\\n\\n\\n\\n\\n\\n\\n\\n\\n\\n\\n\\n\\n\\n\\n\\n\\n\\n\\n\\n        \\n\\n\\n\\n  \\n    Authors\\n\\n\\n\\n\\n\\n\\n    \\n\\n\\n    \\n\\n\\n\\n\\n\\n\\n\\n\\n\\n\\n\\n\\n\\n\\n\\n Bryan Clark\\n\\nSenior Technology Advocate\\n\\n\\n\\n\\n\\n\\n\\n\\r\\n        What is LangGraph?\\r\\n    \\n\\n\\n\\nLangGraph, created by LangChain, is an open source AI agent framework designed to build, deploy and manage complex generative AI agent workflows. It provides a set of tools and libraries that enable users to create, run and optimize large language models (LLMs) in a scalable and efficient manner. At its core, LangGraph uses the power of graph-based architectures to model and manage the intricate relationships between various components of an AI agent workflow.\\n\\n\\nWhat does all this information mean? The following example can offer a clearer understanding of LangGraph: Think about these graph-based architectures as a powerful configurable map, a “Super-Map.” Users can envision the AI workflow as being “The Navigator” of this “Super-Map.” Finally, in this example, the user is “The Cartographer.” In this sense, the navigator charts out the optimal routes between points on the “Super-Map,” all of which are created by “The Cartographer.”\\nTo recap, optimal routes within the graph-based architectures (“Super-Map”) are charted and explored by using the AI workflow\\xa0(“The Navigator”). This analogy is a great place to start understanding LangGraph—and if you like maps then you are welcome for the bonus opportunity to see someone use the word cartographer.\\n\\n\\n\\n\\n\\n\\n\\n\\n\\n\\n\\n\\n\\n\\n\\n\\nLangGraph illuminates the processes within an AI workflow, allowing full transparency of the agent’s state. Within LangGraph, the “state” feature serves as a memory bank that records and tracks all the valuable information processed by the AI system. It’s similar to a digital notebook where the system captures and updates data as it moves through various stages of a workflow or graph analysis.\\nFor example, if you were running agents to monitor the weather, this feature could track the number of times it snowed and make suggestions based on changing snowfall trends. This observability of how the system works to complete complex tasks is useful for beginners to understand more about state management. State management is helpful when it comes to debugging as it allows the application’s state to be centralized, thus often shortening the overall process.\\nThis approach allows for more effective decision-making, improved scalability and enhanced overall performance. It also allows for more engagement with individuals who might be new to these processes or prefer a clearer picture of what is going on behind the scenes.\\n\\n\\nLangGraph is also built on several key technologies, including LangChain, a Python framework for building AI applications. LangChain includes a library for building and managing LLMs. LangGraph also uses the human-in-the-loop approach. By combining these technologies with a set of APIs and tools, LangGraph provides users with a versatile platform for developing AI solutions and workflows including chatbots, state graphs and other agent-based systems.\\nDelve deeper into the world of LangGraph by exploring its key features, benefits and use cases. By the end of this article, you will have the knowledge and resources to take the next steps with LangGraph.\\n\\n\\n\\n\\r\\n        Key components of LangGraph\\r\\n    \\n\\n\\n\\nLet’s begin by first understanding the key components that make up LangGraph. The framework is built around several key components that work together to enable users to create and manage complex AI workflows. These components include:\\n\\n\\nMonitoring mechanism\\n\\n\\nHuman-in-the-loop: Human-in-the-loop (HITL)\\xa0refers to the requirement of human interaction at some point in the process. In the realm of machine learning (ML), HITL refers to a collaborative process where humans augment the computational capabilities of machines to make informed decisions while building a model. By using the most critical data points, HITL enhances the accuracy of machine learning algorithms, surpassing random sampling methods.\\n\\n\\nGraph architecture\\n\\n\\nStateful graphs: A concept where each node in the graph represents a step in the computation, essentially devising a state graph. This stateful approach allows the graph to retain information about the previous steps, enabling continuous and contextual processing of information as the computation unfolds. Users can manage all LangGraph’s stateful graphs with its APIs.\\nCyclical graph: A cyclical graph is any graph that contains at least one cycle and is essential for agent runtimes. This means that there exists a path that starts and ends at the same node, forming a loop within the graph. Complex workflows often involve cyclic dependencies, where the outcome of one step depends on previous steps in the loop.\\nNodes: In LangGraph, nodes represent individual components or agents within an AI workflow. Nodes can be thought of as “actors” that interact with each other in a specific way. For example,\\xa0to add nodes for tool calling, one can use the ToolNode. Another example, the next node, refers to the node that will be executed following the current one.\\nEdges: Edges are a function within Python that determines which node to execute next based on the current state. Edges can be conditional branches or fixed transitions.\\n\\n\\nTools\\n\\n\\nRAG: Retrieval-augmented generation (RAG) combines the power of LLMs with contextual information from external sources by retrieving relevant documents, which are then used as input for answer generation.\\nWorkflows: Workflows are the sequences of node interactions that define an AI workflow. By arranging nodes into a workflow, users can create more complex and dynamic workflows that use the strengths of individual components.\\nAPIs: LangGraph provides a set of APIs that enable users to interact with its components in a programmatic way. Users can use an API key, add new nodes, modify existing workflows and retrieve data from an AI workflow.\\nLangSmith: LangSmith is a specialized API for building and managing LLMs within LangGraph. It provides tools for initializing LLMs, adding conditional edges and optimizing performance. By combining these components in innovative ways, users can build more sophisticated AI workflows that use the strengths of individual components.\\n\\n\\n\\n\\n\\n\\n\\n\\n\\n\\n\\nIndustry newsletter\\n\\n\\n\\nThe latest tech news, backed by expert insights\\n\\n\\n\\nStay up to date on the most important—and intriguing—industry trends on AI, automation, data and beyond with the Think newsletter.\\xa0See the\\xa0IBM Privacy Statement.\\n\\n\\n\\n\\nThank you! You are subscribed.\\n\\n\\n\\n\\n\\n\\n\\n\\n\\n\\n\\n\\n\\n\\n\\n\\n\\n\\n\\n\\n\\n\\n\\n\\n\\nYour subscription will be delivered in English. You will find an unsubscribe link in every newsletter. You can manage your subscriptions or unsubscribe here. Refer to our IBM Privacy Statement for more information.\\n\\n\\n\\n\\n\\n\\n\\n\\n\\n\\n\\n\\n\\n\\n\\n\\n\\n\\r\\n        How LangGraph scales\\r\\n    \\n\\n\\n\\nBy using a graph-based architecture, LangGraph enables users to scale artificial intelligence workflows without slowing down or sacrificing efficiency. LangGraph uses enhanced decision-making by modeling complex relationships between nodes, which means it uses AI agents to analyze their past actions and feedback. In the world of LLMs, this process is referred to as reflection.\\nEnhanced decision-making: By modeling complex relationships between nodes, LangGraph provides a framework for building more effective decision-making systems.\\nIncreased flexibility: An open source nature and modular design for developers to integrate new components and adapt existing workflows.\\nMultiagent workflows: Complex tasks can be tackled through multiagent workflows. This approach involves creating dedicated LangChain agents for specific tasks or domains. Routing tasks to the appropriate LangChain agents allows for parallel execution and efficient handling of diverse workloads. Such a multiagent network architecture exemplifies the decentralized\\xa0coordination of agent automation.\\nA great example, created by Joao Moura, is using CrewAI with LangChain and LangGraph. Checking emails and creating drafts is automated with CrewAI orchestrating autonomous AI agents, enabling them to collaborate and run complex tasks efficiently.\\n\\n\\n\\n\\n\\n\\n\\n\\n\\n\\n\\n\\n\\n  \\n  \\n      AI agents\\n  \\n\\n\\n\\n\\n    \\n\\n\\n\\n\\n\\n\\n\\n\\n\\n\\n\\n\\n            \\n\\n\\n\\n  \\n    5 Types of AI Agents: Autonomous Functions & Real-World Applications\\n\\n\\n\\n\\n\\n\\n    \\n\\n\\n        \\n\\n\\nLearn how goal-driven and utility-based AI adapt to workflows and complex environments.\\n\\n\\n\\n\\n\\nBuild, deploy and monitor AI agents\\n\\n\\n\\n\\n\\n\\n\\n\\n\\n\\n\\n\\n\\n\\n\\n\\n\\n\\n\\n\\n\\n\\r\\n        LangGraph use cases\\r\\n    \\n\\n\\n\\nChatbots: Users can build an agentic application for vacation planning, with node-based workflows and directed acyclic graphs (DAGs). The chatbot learns to respond to minimal user input and tailor recommendations. Currently, services such as Google’s Duplex are using LangGraph in a similar fashion to mimic human-like conversations.\\nAgent systems: LangGraph provides a framework for building agent-based systems, which can be used in applications such as robotics, autonomous vehicles or video games.\\nLLM applications: By using LangGraph’s capabilities, developers can build more sophisticated AI models that learn and improve over time. Norwegian Cruise Line uses LangGraph to compile, construct and refine guest-facing AI solutions. This capability allows for improved and personalized guest experiences.\\n\\n\\n\\n\\n\\r\\n        LLM integration in LangGraph\\r\\n    \\n\\n\\n\\nLangGraph’s agents are based on OpenAI’s series of GPT (generative pretrained transformer) models GPT-3.5 and GPT-4. However, LangGraph and its open source community have contributed to the addition of several other models that initialize through LLM API configuration, including Anthropic and AzureChatOpenAI models. The relatively small loop is similar to projects such as Auto-GPT.\\nLangGraph offers a YouTube tutorial that facilitates the exploration of how to integrate with open source LLMs on its GitHub docs site. The first step to integrating an LLM is to set up an inference repository (repo) such as LLaMA-Factory, FastChat and Ollama. This repository enables deployment of the corresponding LLM model that is configured through its API credentials.\\n\\n\\n\\r\\n        Other AI agent frameworks\\r\\n    \\n\\n\\n\\nCrewAI, MetaGPT and AutoGen are just a few multiagent frameworks that can handle complex workflows. This operation allows for a more flexible and nuanced approach to tackling diverse computational challenges. By providing comprehensive debugging capabilities, these\\xa0frameworks enable developers to quickly identify and resolve issues, leading to more efficient development and optimization processes.\\n\\n\\n\\r\\n        LangGraph Studio: A visual interface for workflow development\\r\\n    \\n\\n\\n\\nLangGraph has also introduced LangGraph Studio, a visual interface for workflow development. With LangGraph Studio, users can design and build workflows by using a graphical interface, without having to write code. The downloadable desktop application makes LangGraph Studio more usable for beginners. LangGraph Studio has also made these additional features available:\\nShallow learning curve: LangGraph Studio is not needed to access LangGraph. However, by using LangGraph Studio’s visual interface, users can focus on designing their workflows without getting bogged down in code.\\nImproved collaboration: LangGraph Studio enables the sharing of workflows with others, whether that’s a team of developers or a client.\\nDebugging: The capabilities do not end with building a graph, debugging features are included to ensure the graph is accurate and reliable. LangGraph Studio, with its cutting-edge integrated development environment (IDE), helps visualize and debug LangGraph applications.\\n\\n\\n\\r\\n        Future developments\\r\\n    \\n\\n\\n\\nEnhanced natural language processing (NLP): LangGraph will have more advanced NLP capabilities, allowing it to better understand natural language and provide more accurate responses.\\nImproved machine learning: LangGraph will have improved machine learning capabilities, allowing it to learn and improve over time.\\nSupport for new platforms: LangGraph will support new platforms, such as mobile devices and edge computing to make its technology more accessible.\\n\\n\\n\\n\\n\\n\\n\\n\\n\\n\\n\\n\\n\\n\\n                Report\\n            \\n\\n                Top strategic technology trends for 2025: Agentic AI\\n            \\nDownload this Gartner® research report to learn the potential opportunities and risks of agentic AI for IT leaders and how to prepare for this next wave of AI innovation.\\r\\n\\r\\n\\n\\nRead the report\\n\\n\\n\\n\\n\\n\\n\\n\\n\\n\\n\\n\\n\\n\\n\\n\\n\\n\\n\\n\\n\\n\\n\\n\\n\\n\\n\\n\\n\\n\\n\\n\\n\\n\\n\\n\\n            \\n\\n\\n\\n  \\n    Resources\\n\\n\\n\\n\\n\\n\\n    \\n\\n\\n        \\n\\n\\n\\n\\n\\n\\n\\n\\n\\n\\n\\n\\n\\n\\n                IBM Developer\\n            \\n\\n                Agents: watsonx Developer Hub\\n            \\nGet started with building and deploying agents by using watsonx.ai.\\n\\nExplore the Developer Hub\\n\\n\\n\\n\\n\\n\\n\\n\\n                Report\\n            \\n\\n                Omdia Report on empowered intelligence: The impact of AI agents\\n            \\nDiscover how you can unlock the full potential of gen AI with AI agents.\\r\\n\\n\\nRead the report\\n\\n\\n\\n\\n\\n\\n\\n\\n                Guide\\n            \\n\\n                2025 AI Agents buyers guide\\n            \\nDive into this comprehensive guide breaks down key use cases, core capabilities, and step-by-step recommendations to help you choose the right solutions for your business.\\n\\nRead the guide\\n\\n\\n\\n\\n\\n\\n\\n\\n                IBM Developer\\n            \\n\\n                InstructLab Tutorials\\n            \\nShape generative AI by making contributions to LLMs in an open and accessible way.\\n\\nGet started\\n\\n\\n\\n\\n\\n\\n\\n\\n                IBM TechXchange\\n            \\n\\n                IBM AI Community\\n            \\nJoin the community for AI architects and builders to learn, share ideas and connect with others.\\n\\nFind your community\\n\\n\\n\\n\\n\\n\\n\\n\\n                Video\\n            \\n\\n                Reimagine business productivity with AI agents and assistants\\n            \\nExplore the difference between AI agents and assistants and learn how they can be a gamechanger for enterprise productivity.\\n\\nWatch now\\n\\n\\n\\n\\n\\n\\n\\n\\n                Podcast\\n            \\n\\n                2024 Rewind: Breakthroughs in AI models, agents, hardware and products\\n            \\nWill 2025 be the year of AI agents? On this episode of Mixture of Experts, we review AI models, agents, hardware and product releases with some of the top industry experts.\\r\\n\\n\\nListen now\\n\\n\\n\\n\\n\\n\\n\\n\\n                Podcast\\n            \\n\\n                How AI agents will reinvent productivity\\n            \\nLearn ways to use AI to be more creative and efficient. Start adapting to a future that involves working closely with AI agents.\\n\\nListen now\\n\\n\\n\\n\\n\\n\\n\\n\\n\\n\\n\\n\\n\\n\\n\\n\\n\\n\\n\\n\\n\\n\\n\\n\\n        \\n        \\n\\n     \\n    Related solutions\\n\\n\\n\\n\\n    \\n\\n\\n    \\n\\n\\n\\n\\n\\n\\n\\n\\n\\n\\n\\n\\n\\n\\n\\n\\n\\n\\n\\n\\n\\n\\n\\n\\n\\n\\n\\n\\n\\n\\n\\n\\n\\n\\n\\n\\n\\n\\n\\n\\n\\n\\n\\n\\n\\n\\n\\n\\n\\n\\n\\n\\n\\n\\n\\n\\n\\n\\n        \\n\\n\\n\\n  \\n    IBM AI agent development\\xa0\\n\\n\\n\\n\\n\\n\\n    \\n\\n\\n    \\n\\n\\n\\nEnable developers to build, deploy and monitor AI agents with the IBM watsonx.ai studio.\\n\\n\\n\\n\\nExplore watsonx.ai\\n                \\n            \\n\\n\\n\\n\\n\\n\\n\\n\\n\\n\\n\\n\\n\\n\\n\\n\\n\\n\\n\\n\\n\\n\\n\\n\\n\\n\\n\\n\\n\\n\\n\\n\\n\\n\\n\\n\\n\\n\\n\\n\\n\\n\\n\\n\\n\\n\\n\\n\\n\\n\\n\\n\\n\\n\\n\\n\\n\\n\\n\\n\\n\\n        \\n\\n\\n\\n  \\n    IBM AI agents and assistants\\n\\n\\n\\n\\n\\n\\n    \\n\\n\\n    \\n\\n\\n\\nCreate breakthrough productivity with one of the industry's most comprehensive set of capabilities for helping businesses build, customize and manage AI agents and assistants.\\xa0\\n\\n\\n\\n\\nExplore AI agents\\n                \\n            \\n\\n\\n\\n\\n\\n\\n\\n\\n\\n\\n\\n\\n\\n\\n\\n\\n\\n\\n\\n\\n\\n\\n\\n\\n\\n\\n\\n\\n\\n\\n\\n\\n\\n\\n\\n\\n\\n\\n\\n\\n\\n\\n\\n\\n\\n\\n\\n\\n\\n\\n\\n\\n\\n\\n\\n\\n\\n\\n\\n\\n\\n\\n        \\n\\n\\n\\n  \\n    IBM Granite\\n\\n\\n\\n\\n\\n\\n    \\n\\n\\n    \\n\\n\\n\\nAchieve over 90% cost savings with Granite's smaller and open models, designed for developer efficiency.\\xa0These enterprise-ready models deliver exceptional performance against safety benchmarks and across a wide range of enterprise tasks from cybersecurity to RAG.\\n\\n\\n\\n\\nExplore Granite\\n                \\n            \\n\\n\\n\\n\\n\\n\\n\\n\\n\\n\\n\\n\\n\\n\\n\\n\\n\\n\\n\\n\\nTake the next step\\n\\n\\n\\n\\nAutomate your complex workflows and create breakthrough productivity with one of the industry's most comprehensive set of capabilities for helping businesses build, customize and manage AI agents and assistants.\\xa0\\n\\n\\n\\n\\n\\n\\nExplore watsonx.ai agent development\\n\\n\\n\\n\\n\\nDiscover watsonx Orchestrate\\n\\n\\n\\n\\n\\n\\n\\n\\n\\n\\n\\n\\n\\n\\n\\n\\n\\n\\n\\n\\n\\n\\n\\n\\n\\n\\n\\n\\n\\n\\n\\n\\n\\n\\n\\n\\n\\n\\n\\n\\n\\n\\n\\n\\n\\n\\n\\n\\n\\n\\n\\n\\n\\n\\n\\n\\n\\n\\n\\n\\n\\n\\n\\n\\n\\n\\n\\n\\n\\n\\n\""
      ]
     },
     "execution_count": 3,
     "metadata": {},
     "output_type": "execute_result"
    }
   ],
   "source": [
    "from langchain_community.document_loaders import WebBaseLoader\n",
    "\n",
    "loader = WebBaseLoader(\"https://www.ibm.com/think/topics/langgraph\")\n",
    "docs = loader.load()\n",
    "docs[0].page_content"
   ]
  },
  {
   "cell_type": "markdown",
   "id": "610d719c",
   "metadata": {},
   "source": [
    "#### Step 2:- Split it into chunks"
   ]
  },
  {
   "cell_type": "code",
   "execution_count": 4,
   "id": "bc97b8f4",
   "metadata": {},
   "outputs": [
    {
     "data": {
      "text/plain": [
       "[Document(metadata={'source': 'https://www.ibm.com/think/topics/langgraph', 'title': 'What is LangGraph? | IBM', 'description': 'Stay ahead of the curve with AI-powered solutions that enhance productivity and streamline workflows using WatsonX and LangGraph.', 'language': 'en'}, page_content='What is LangGraph? | IBM\\n\\n\\n\\n\\n\\n\\n\\n\\n\\n\\n\\n\\n\\n\\n\\n\\n\\n\\n\\n\\n\\n\\n\\n\\n\\n\\n\\n\\n\\n\\n\\n\\n\\n\\n\\n\\n\\n\\n\\n\\n\\n\\n\\n\\n\\n\\n\\n\\n\\n\\n\\n\\n\\n\\n\\n\\n\\n\\n\\n\\n\\n\\n\\n\\n\\n\\n\\n\\n\\n\\n\\n\\n\\n\\n\\n\\n\\n\\n\\n\\n\\n\\n\\n                                   \\n\\n\\n\\n  \\n    What is LangGraph?\\n\\n\\n\\n\\n\\n\\n    \\n\\n\\n                               \\n\\n\\n\\n\\n\\n\\n\\n\\n\\n\\n\\n\\n\\n\\n\\n\\n\\n\\n\\n\\n\\n\\n\\n\\n\\n\\n\\n\\n\\n\\nAI Agents\\n\\n\\n\\nWelcome\\n\\n\\n\\n\\n\\nCaret right\\n\\nIntroduction\\n\\n\\n\\n\\nOverview\\n\\n\\n\\n\\nAI agents vs AI assistants\\n\\n\\n\\n\\nAgentic AI\\n\\n\\n\\n\\nAgentic AI vs generative AI\\n\\n\\n\\n\\nTypes of AI agents\\n\\n\\n\\n\\n\\n\\n\\nCaret right\\n\\nComponents\\n\\n\\n\\n\\nOverview\\n\\n\\n\\n\\nPerception\\n\\n\\n\\n\\nReasoning\\n\\n\\n\\n\\nMemory\\n\\n\\n\\n\\nPlanning\\n\\n\\n\\n\\n\\nCaret right\\n\\nTool calling\\n\\n\\n\\n\\nWhat is tool calling?\\n\\n\\n\\n\\nTutorial: Ollama tool calling\\n\\n\\n\\n\\n\\n\\nCommunication\\n\\n\\n\\n\\nLearning\\n\\n\\n\\n\\nAgentic workflows\\n\\n\\n\\n\\n\\n\\n\\nCaret right\\n\\nArchitecture\\n\\n\\n\\n\\nOverview\\n\\n\\n\\n\\nReAct\\n\\n\\n\\n\\n\\nCaret right\\n\\nReWOO\\n\\n\\n\\n\\nTutorial: ReWOO reasoning agent\\n\\n\\n\\n\\n\\n\\n\\nCaret right\\n\\nAI agent orchestration\\n\\n\\n\\n\\nWhat is agent orchestration?\\n\\n\\n\\n\\nTutorial: Agent orchestration\\n\\n\\n\\n\\n\\n\\n\\nCaret right\\n\\nMulti-agent systems\\n\\n\\n\\n\\nWhat are multi-agent systems?'),\n",
       " Document(metadata={'source': 'https://www.ibm.com/think/topics/langgraph', 'title': 'What is LangGraph? | IBM', 'description': 'Stay ahead of the curve with AI-powered solutions that enhance productivity and streamline workflows using WatsonX and LangGraph.', 'language': 'en'}, page_content='Caret right\\n\\nAI agent orchestration\\n\\n\\n\\n\\nWhat is agent orchestration?\\n\\n\\n\\n\\nTutorial: Agent orchestration\\n\\n\\n\\n\\n\\n\\n\\nCaret right\\n\\nMulti-agent systems\\n\\n\\n\\n\\nWhat are multi-agent systems?\\n\\n\\n\\n\\nTutorial: crewAI multi-agent call analysis\\n\\n\\n\\n\\n\\n\\nMulti-agent collaboration\\n\\n\\n\\n\\n\\n\\n\\nCaret right\\n\\nProtocols\\n\\n\\n\\n\\nAgent Communication Protocol (ACP)\\n\\n\\n\\n\\nModel Context Protocol (MCP)\\n\\n\\n\\n\\n\\n\\n\\nCaret right\\n\\nMulti-agent systems\\n\\n\\n\\n\\nWhat are multi-agent systems?\\n\\n\\n\\n\\nTutorial: crewAI multi-agent call analysis\\n\\n\\n\\n\\nWhat is agent orchestration?\\n\\n\\n\\n\\nTutorial: Agent orchestration\\n\\n\\n\\n\\nWhat is multi-agent collaboration?\\n\\n\\n\\n\\n\\n\\n\\nCaret right\\n\\nFrameworks\\n\\n\\n\\n\\nOverview\\n\\n\\n\\n\\nAutoGPT\\n\\n\\n\\n\\n\\nCaret right\\n\\nBeeAI\\n\\n\\n\\n\\nTutorial: BeeAI agentic contract management\\n\\n\\n\\n\\n\\n\\n\\nCaret right\\n\\nChatDev\\n\\n\\n\\n\\nWhat is ChatDev?\\n\\n\\n\\n\\nTutorial: ChatDev ChatChain\\n\\n\\n\\n\\n\\n\\n\\nCaret right\\n\\ncrewAI\\n\\n\\n\\n\\nWhat is crewAI?\\n\\n\\n\\n\\nTutorial: crewAI retail shelf optimization\\n\\n\\n\\n\\n\\n\\n\\nCaret right\\n\\nLangGraph\\n\\n\\n\\n\\nWhat is LangGraph?\\n\\n\\n\\n\\nTutorial: LangGraph IT support agent'),\n",
       " Document(metadata={'source': 'https://www.ibm.com/think/topics/langgraph', 'title': 'What is LangGraph? | IBM', 'description': 'Stay ahead of the curve with AI-powered solutions that enhance productivity and streamline workflows using WatsonX and LangGraph.', 'language': 'en'}, page_content='Caret right\\n\\ncrewAI\\n\\n\\n\\n\\nWhat is crewAI?\\n\\n\\n\\n\\nTutorial: crewAI retail shelf optimization\\n\\n\\n\\n\\n\\n\\n\\nCaret right\\n\\nLangGraph\\n\\n\\n\\n\\nWhat is LangGraph?\\n\\n\\n\\n\\nTutorial: LangGraph IT support agent\\n\\n\\n\\n\\n\\n\\n\\nCaret right\\n\\nLangChain\\n\\n\\n\\n\\nWhat is LangChain?\\n\\n\\n\\n\\nTutorial: LangChain agent\\n\\n\\n\\n\\n\\n\\nMetaGPT\\n\\n\\n\\n\\n\\n\\n\\nCaret right\\n\\nGovernance\\n\\n\\n\\n\\nOverview\\n\\n\\n\\n\\nAI agent ethics\\n\\n\\n\\n\\n\\nCaret right\\n\\nAI agent evaluation\\n\\n\\n\\n\\nWhat is AI agent evaluation?\\n\\n\\n\\n\\nTutorial: AI agent evaluation\\n\\n\\n\\n\\n\\n\\n\\n\\n\\nCaret right\\n\\nAgentic RAG\\n\\n\\n\\n\\nOverview\\n\\n\\n\\n\\nTutorial: LangChain agentic RAG \\n\\n\\n\\n\\nTutorial: Agentic chunking for RAG\\n\\n\\n\\n\\n\\n\\n\\nCaret right\\n\\nUse cases / Applications\\n\\n\\n\\n\\nOverview\\n\\n\\n\\n\\nCustomer service\\n\\n\\n\\n\\nHuman resources\\n\\n\\n\\n\\nMarketing\\n\\n\\n\\n\\nSales\\n\\n\\n\\n\\nProcurement\\n\\n\\n\\n\\nAgentic automation\\n\\n\\n\\n\\n\\n\\n\\n\\n\\n\\n\\n\\n\\n\\n\\n\\n\\n\\n\\n        \\n\\n\\n\\n  \\n    Authors\\n\\n\\n\\n\\n\\n\\n    \\n\\n\\n    \\n\\n\\n\\n\\n\\n\\n\\n\\n\\n\\n\\n\\n\\n\\n\\n Bryan Clark\\n\\nSenior Technology Advocate\\n\\n\\n\\n\\n\\n\\n\\n\\r\\n        What is LangGraph?'),\n",
       " Document(metadata={'source': 'https://www.ibm.com/think/topics/langgraph', 'title': 'What is LangGraph? | IBM', 'description': 'Stay ahead of the curve with AI-powered solutions that enhance productivity and streamline workflows using WatsonX and LangGraph.', 'language': 'en'}, page_content='Agentic automation\\n\\n\\n\\n\\n\\n\\n\\n\\n\\n\\n\\n\\n\\n\\n\\n\\n\\n\\n\\n        \\n\\n\\n\\n  \\n    Authors\\n\\n\\n\\n\\n\\n\\n    \\n\\n\\n    \\n\\n\\n\\n\\n\\n\\n\\n\\n\\n\\n\\n\\n\\n\\n\\n Bryan Clark\\n\\nSenior Technology Advocate\\n\\n\\n\\n\\n\\n\\n\\n\\r\\n        What is LangGraph?\\r\\n    \\n\\n\\n\\nLangGraph, created by LangChain, is an open source AI agent framework designed to build, deploy and manage complex generative AI agent workflows. It provides a set of tools and libraries that enable users to create, run and optimize large language models (LLMs) in a scalable and efficient manner. At its core, LangGraph uses the power of graph-based architectures to model and manage the intricate relationships between various components of an AI agent workflow.'),\n",
       " Document(metadata={'source': 'https://www.ibm.com/think/topics/langgraph', 'title': 'What is LangGraph? | IBM', 'description': 'Stay ahead of the curve with AI-powered solutions that enhance productivity and streamline workflows using WatsonX and LangGraph.', 'language': 'en'}, page_content='What does all this information mean? The following example can offer a clearer understanding of LangGraph: Think about these graph-based architectures as a powerful configurable map, a “Super-Map.” Users can envision the AI workflow as being “The Navigator” of this “Super-Map.” Finally, in this example, the user is “The Cartographer.” In this sense, the navigator charts out the optimal routes between points on the “Super-Map,” all of which are created by “The Cartographer.”\\nTo recap, optimal routes within the graph-based architectures (“Super-Map”) are charted and explored by using the AI workflow\\xa0(“The Navigator”). This analogy is a great place to start understanding LangGraph—and if you like maps then you are welcome for the bonus opportunity to see someone use the word cartographer.'),\n",
       " Document(metadata={'source': 'https://www.ibm.com/think/topics/langgraph', 'title': 'What is LangGraph? | IBM', 'description': 'Stay ahead of the curve with AI-powered solutions that enhance productivity and streamline workflows using WatsonX and LangGraph.', 'language': 'en'}, page_content='LangGraph illuminates the processes within an AI workflow, allowing full transparency of the agent’s state. Within LangGraph, the “state” feature serves as a memory bank that records and tracks all the valuable information processed by the AI system. It’s similar to a digital notebook where the system captures and updates data as it moves through various stages of a workflow or graph analysis.\\nFor example, if you were running agents to monitor the weather, this feature could track the number of times it snowed and make suggestions based on changing snowfall trends. This observability of how the system works to complete complex tasks is useful for beginners to understand more about state management. State management is helpful when it comes to debugging as it allows the application’s state to be centralized, thus often shortening the overall process.'),\n",
       " Document(metadata={'source': 'https://www.ibm.com/think/topics/langgraph', 'title': 'What is LangGraph? | IBM', 'description': 'Stay ahead of the curve with AI-powered solutions that enhance productivity and streamline workflows using WatsonX and LangGraph.', 'language': 'en'}, page_content='This approach allows for more effective decision-making, improved scalability and enhanced overall performance. It also allows for more engagement with individuals who might be new to these processes or prefer a clearer picture of what is going on behind the scenes.'),\n",
       " Document(metadata={'source': 'https://www.ibm.com/think/topics/langgraph', 'title': 'What is LangGraph? | IBM', 'description': 'Stay ahead of the curve with AI-powered solutions that enhance productivity and streamline workflows using WatsonX and LangGraph.', 'language': 'en'}, page_content='LangGraph is also built on several key technologies, including LangChain, a Python framework for building AI applications. LangChain includes a library for building and managing LLMs. LangGraph also uses the human-in-the-loop approach. By combining these technologies with a set of APIs and tools, LangGraph provides users with a versatile platform for developing AI solutions and workflows including chatbots, state graphs and other agent-based systems.\\nDelve deeper into the world of LangGraph by exploring its key features, benefits and use cases. By the end of this article, you will have the knowledge and resources to take the next steps with LangGraph.\\n\\n\\n\\n\\r\\n        Key components of LangGraph\\r\\n    \\n\\n\\n\\nLet’s begin by first understanding the key components that make up LangGraph. The framework is built around several key components that work together to enable users to create and manage complex AI workflows. These components include:\\n\\n\\nMonitoring mechanism'),\n",
       " Document(metadata={'source': 'https://www.ibm.com/think/topics/langgraph', 'title': 'What is LangGraph? | IBM', 'description': 'Stay ahead of the curve with AI-powered solutions that enhance productivity and streamline workflows using WatsonX and LangGraph.', 'language': 'en'}, page_content='Monitoring mechanism\\n\\n\\nHuman-in-the-loop: Human-in-the-loop (HITL)\\xa0refers to the requirement of human interaction at some point in the process. In the realm of machine learning (ML), HITL refers to a collaborative process where humans augment the computational capabilities of machines to make informed decisions while building a model. By using the most critical data points, HITL enhances the accuracy of machine learning algorithms, surpassing random sampling methods.\\n\\n\\nGraph architecture'),\n",
       " Document(metadata={'source': 'https://www.ibm.com/think/topics/langgraph', 'title': 'What is LangGraph? | IBM', 'description': 'Stay ahead of the curve with AI-powered solutions that enhance productivity and streamline workflows using WatsonX and LangGraph.', 'language': 'en'}, page_content='Stateful graphs: A concept where each node in the graph represents a step in the computation, essentially devising a state graph. This stateful approach allows the graph to retain information about the previous steps, enabling continuous and contextual processing of information as the computation unfolds. Users can manage all LangGraph’s stateful graphs with its APIs.\\nCyclical graph: A cyclical graph is any graph that contains at least one cycle and is essential for agent runtimes. This means that there exists a path that starts and ends at the same node, forming a loop within the graph. Complex workflows often involve cyclic dependencies, where the outcome of one step depends on previous steps in the loop.'),\n",
       " Document(metadata={'source': 'https://www.ibm.com/think/topics/langgraph', 'title': 'What is LangGraph? | IBM', 'description': 'Stay ahead of the curve with AI-powered solutions that enhance productivity and streamline workflows using WatsonX and LangGraph.', 'language': 'en'}, page_content='Nodes: In LangGraph, nodes represent individual components or agents within an AI workflow. Nodes can be thought of as “actors” that interact with each other in a specific way. For example,\\xa0to add nodes for tool calling, one can use the ToolNode. Another example, the next node, refers to the node that will be executed following the current one.\\nEdges: Edges are a function within Python that determines which node to execute next based on the current state. Edges can be conditional branches or fixed transitions.'),\n",
       " Document(metadata={'source': 'https://www.ibm.com/think/topics/langgraph', 'title': 'What is LangGraph? | IBM', 'description': 'Stay ahead of the curve with AI-powered solutions that enhance productivity and streamline workflows using WatsonX and LangGraph.', 'language': 'en'}, page_content='Tools\\n\\n\\nRAG: Retrieval-augmented generation (RAG) combines the power of LLMs with contextual information from external sources by retrieving relevant documents, which are then used as input for answer generation.\\nWorkflows: Workflows are the sequences of node interactions that define an AI workflow. By arranging nodes into a workflow, users can create more complex and dynamic workflows that use the strengths of individual components.\\nAPIs: LangGraph provides a set of APIs that enable users to interact with its components in a programmatic way. Users can use an API key, add new nodes, modify existing workflows and retrieve data from an AI workflow.\\nLangSmith: LangSmith is a specialized API for building and managing LLMs within LangGraph. It provides tools for initializing LLMs, adding conditional edges and optimizing performance. By combining these components in innovative ways, users can build more sophisticated AI workflows that use the strengths of individual components.'),\n",
       " Document(metadata={'source': 'https://www.ibm.com/think/topics/langgraph', 'title': 'What is LangGraph? | IBM', 'description': 'Stay ahead of the curve with AI-powered solutions that enhance productivity and streamline workflows using WatsonX and LangGraph.', 'language': 'en'}, page_content='Industry newsletter\\n\\n\\n\\nThe latest tech news, backed by expert insights\\n\\n\\n\\nStay up to date on the most important—and intriguing—industry trends on AI, automation, data and beyond with the Think newsletter.\\xa0See the\\xa0IBM Privacy Statement.\\n\\n\\n\\n\\nThank you! You are subscribed.\\n\\n\\n\\n\\n\\n\\n\\n\\n\\n\\n\\n\\n\\n\\n\\n\\n\\n\\n\\n\\n\\n\\n\\n\\n\\nYour subscription will be delivered in English. You will find an unsubscribe link in every newsletter. You can manage your subscriptions or unsubscribe here. Refer to our IBM Privacy Statement for more information.\\n\\n\\n\\n\\n\\n\\n\\n\\n\\n\\n\\n\\n\\n\\n\\n\\n\\n\\r\\n        How LangGraph scales'),\n",
       " Document(metadata={'source': 'https://www.ibm.com/think/topics/langgraph', 'title': 'What is LangGraph? | IBM', 'description': 'Stay ahead of the curve with AI-powered solutions that enhance productivity and streamline workflows using WatsonX and LangGraph.', 'language': 'en'}, page_content='By using a graph-based architecture, LangGraph enables users to scale artificial intelligence workflows without slowing down or sacrificing efficiency. LangGraph uses enhanced decision-making by modeling complex relationships between nodes, which means it uses AI agents to analyze their past actions and feedback. In the world of LLMs, this process is referred to as reflection.\\nEnhanced decision-making: By modeling complex relationships between nodes, LangGraph provides a framework for building more effective decision-making systems.\\nIncreased flexibility: An open source nature and modular design for developers to integrate new components and adapt existing workflows.'),\n",
       " Document(metadata={'source': 'https://www.ibm.com/think/topics/langgraph', 'title': 'What is LangGraph? | IBM', 'description': 'Stay ahead of the curve with AI-powered solutions that enhance productivity and streamline workflows using WatsonX and LangGraph.', 'language': 'en'}, page_content='Increased flexibility: An open source nature and modular design for developers to integrate new components and adapt existing workflows.\\nMultiagent workflows: Complex tasks can be tackled through multiagent workflows. This approach involves creating dedicated LangChain agents for specific tasks or domains. Routing tasks to the appropriate LangChain agents allows for parallel execution and efficient handling of diverse workloads. Such a multiagent network architecture exemplifies the decentralized\\xa0coordination of agent automation.\\nA great example, created by Joao Moura, is using CrewAI with LangChain and LangGraph. Checking emails and creating drafts is automated with CrewAI orchestrating autonomous AI agents, enabling them to collaborate and run complex tasks efficiently.'),\n",
       " Document(metadata={'source': 'https://www.ibm.com/think/topics/langgraph', 'title': 'What is LangGraph? | IBM', 'description': 'Stay ahead of the curve with AI-powered solutions that enhance productivity and streamline workflows using WatsonX and LangGraph.', 'language': 'en'}, page_content='AI agents\\n  \\n\\n\\n\\n\\n    \\n\\n\\n\\n\\n\\n\\n\\n\\n\\n\\n\\n\\n            \\n\\n\\n\\n  \\n    5 Types of AI Agents: Autonomous Functions & Real-World Applications\\n\\n\\n\\n\\n\\n\\n    \\n\\n\\n        \\n\\n\\nLearn how goal-driven and utility-based AI adapt to workflows and complex environments.\\n\\n\\n\\n\\n\\nBuild, deploy and monitor AI agents\\n\\n\\n\\n\\n\\n\\n\\n\\n\\n\\n\\n\\n\\n\\n\\n\\n\\n\\n\\n\\n\\n\\r\\n        LangGraph use cases'),\n",
       " Document(metadata={'source': 'https://www.ibm.com/think/topics/langgraph', 'title': 'What is LangGraph? | IBM', 'description': 'Stay ahead of the curve with AI-powered solutions that enhance productivity and streamline workflows using WatsonX and LangGraph.', 'language': 'en'}, page_content='Learn how goal-driven and utility-based AI adapt to workflows and complex environments.\\n\\n\\n\\n\\n\\nBuild, deploy and monitor AI agents\\n\\n\\n\\n\\n\\n\\n\\n\\n\\n\\n\\n\\n\\n\\n\\n\\n\\n\\n\\n\\n\\n\\r\\n        LangGraph use cases\\r\\n    \\n\\n\\n\\nChatbots: Users can build an agentic application for vacation planning, with node-based workflows and directed acyclic graphs (DAGs). The chatbot learns to respond to minimal user input and tailor recommendations. Currently, services such as Google’s Duplex are using LangGraph in a similar fashion to mimic human-like conversations.\\nAgent systems: LangGraph provides a framework for building agent-based systems, which can be used in applications such as robotics, autonomous vehicles or video games.\\nLLM applications: By using LangGraph’s capabilities, developers can build more sophisticated AI models that learn and improve over time. Norwegian Cruise Line uses LangGraph to compile, construct and refine guest-facing AI solutions. This capability allows for improved and personalized guest experiences.'),\n",
       " Document(metadata={'source': 'https://www.ibm.com/think/topics/langgraph', 'title': 'What is LangGraph? | IBM', 'description': 'Stay ahead of the curve with AI-powered solutions that enhance productivity and streamline workflows using WatsonX and LangGraph.', 'language': 'en'}, page_content='LLM integration in LangGraph\\r\\n    \\n\\n\\n\\nLangGraph’s agents are based on OpenAI’s series of GPT (generative pretrained transformer) models GPT-3.5 and GPT-4. However, LangGraph and its open source community have contributed to the addition of several other models that initialize through LLM API configuration, including Anthropic and AzureChatOpenAI models. The relatively small loop is similar to projects such as Auto-GPT.\\nLangGraph offers a YouTube tutorial that facilitates the exploration of how to integrate with open source LLMs on its GitHub docs site. The first step to integrating an LLM is to set up an inference repository (repo) such as LLaMA-Factory, FastChat and Ollama. This repository enables deployment of the corresponding LLM model that is configured through its API credentials.\\n\\n\\n\\r\\n        Other AI agent frameworks'),\n",
       " Document(metadata={'source': 'https://www.ibm.com/think/topics/langgraph', 'title': 'What is LangGraph? | IBM', 'description': 'Stay ahead of the curve with AI-powered solutions that enhance productivity and streamline workflows using WatsonX and LangGraph.', 'language': 'en'}, page_content='Other AI agent frameworks\\r\\n    \\n\\n\\n\\nCrewAI, MetaGPT and AutoGen are just a few multiagent frameworks that can handle complex workflows. This operation allows for a more flexible and nuanced approach to tackling diverse computational challenges. By providing comprehensive debugging capabilities, these\\xa0frameworks enable developers to quickly identify and resolve issues, leading to more efficient development and optimization processes.\\n\\n\\n\\r\\n        LangGraph Studio: A visual interface for workflow development'),\n",
       " Document(metadata={'source': 'https://www.ibm.com/think/topics/langgraph', 'title': 'What is LangGraph? | IBM', 'description': 'Stay ahead of the curve with AI-powered solutions that enhance productivity and streamline workflows using WatsonX and LangGraph.', 'language': 'en'}, page_content='LangGraph has also introduced LangGraph Studio, a visual interface for workflow development. With LangGraph Studio, users can design and build workflows by using a graphical interface, without having to write code. The downloadable desktop application makes LangGraph Studio more usable for beginners. LangGraph Studio has also made these additional features available:\\nShallow learning curve: LangGraph Studio is not needed to access LangGraph. However, by using LangGraph Studio’s visual interface, users can focus on designing their workflows without getting bogged down in code.\\nImproved collaboration: LangGraph Studio enables the sharing of workflows with others, whether that’s a team of developers or a client.\\nDebugging: The capabilities do not end with building a graph, debugging features are included to ensure the graph is accurate and reliable. LangGraph Studio, with its cutting-edge integrated development environment (IDE), helps visualize and debug LangGraph applications.'),\n",
       " Document(metadata={'source': 'https://www.ibm.com/think/topics/langgraph', 'title': 'What is LangGraph? | IBM', 'description': 'Stay ahead of the curve with AI-powered solutions that enhance productivity and streamline workflows using WatsonX and LangGraph.', 'language': 'en'}, page_content='Future developments\\r\\n    \\n\\n\\n\\nEnhanced natural language processing (NLP): LangGraph will have more advanced NLP capabilities, allowing it to better understand natural language and provide more accurate responses.\\nImproved machine learning: LangGraph will have improved machine learning capabilities, allowing it to learn and improve over time.\\nSupport for new platforms: LangGraph will support new platforms, such as mobile devices and edge computing to make its technology more accessible.\\n\\n\\n\\n\\n\\n\\n\\n\\n\\n\\n\\n\\n\\n\\n                Report\\n            \\n\\n                Top strategic technology trends for 2025: Agentic AI\\n            \\nDownload this Gartner® research report to learn the potential opportunities and risks of agentic AI for IT leaders and how to prepare for this next wave of AI innovation.\\r\\n\\r\\n\\n\\nRead the report\\n\\n\\n\\n\\n\\n\\n\\n\\n\\n\\n\\n\\n\\n\\n\\n\\n\\n\\n\\n\\n\\n\\n\\n\\n\\n\\n\\n\\n\\n\\n\\n\\n\\n\\n\\n\\n            \\n\\n\\n\\n  \\n    Resources\\n\\n\\n\\n\\n\\n\\n    \\n\\n\\n        \\n\\n\\n\\n\\n\\n\\n\\n\\n\\n\\n\\n\\n\\n\\n                IBM Developer'),\n",
       " Document(metadata={'source': 'https://www.ibm.com/think/topics/langgraph', 'title': 'What is LangGraph? | IBM', 'description': 'Stay ahead of the curve with AI-powered solutions that enhance productivity and streamline workflows using WatsonX and LangGraph.', 'language': 'en'}, page_content='Read the report\\n\\n\\n\\n\\n\\n\\n\\n\\n\\n\\n\\n\\n\\n\\n\\n\\n\\n\\n\\n\\n\\n\\n\\n\\n\\n\\n\\n\\n\\n\\n\\n\\n\\n\\n\\n\\n            \\n\\n\\n\\n  \\n    Resources\\n\\n\\n\\n\\n\\n\\n    \\n\\n\\n        \\n\\n\\n\\n\\n\\n\\n\\n\\n\\n\\n\\n\\n\\n\\n                IBM Developer\\n            \\n\\n                Agents: watsonx Developer Hub\\n            \\nGet started with building and deploying agents by using watsonx.ai.\\n\\nExplore the Developer Hub\\n\\n\\n\\n\\n\\n\\n\\n\\n                Report\\n            \\n\\n                Omdia Report on empowered intelligence: The impact of AI agents\\n            \\nDiscover how you can unlock the full potential of gen AI with AI agents.\\r\\n\\n\\nRead the report\\n\\n\\n\\n\\n\\n\\n\\n\\n                Guide\\n            \\n\\n                2025 AI Agents buyers guide\\n            \\nDive into this comprehensive guide breaks down key use cases, core capabilities, and step-by-step recommendations to help you choose the right solutions for your business.\\n\\nRead the guide\\n\\n\\n\\n\\n\\n\\n\\n\\n                IBM Developer'),\n",
       " Document(metadata={'source': 'https://www.ibm.com/think/topics/langgraph', 'title': 'What is LangGraph? | IBM', 'description': 'Stay ahead of the curve with AI-powered solutions that enhance productivity and streamline workflows using WatsonX and LangGraph.', 'language': 'en'}, page_content='Read the guide\\n\\n\\n\\n\\n\\n\\n\\n\\n                IBM Developer\\n            \\n\\n                InstructLab Tutorials\\n            \\nShape generative AI by making contributions to LLMs in an open and accessible way.\\n\\nGet started\\n\\n\\n\\n\\n\\n\\n\\n\\n                IBM TechXchange\\n            \\n\\n                IBM AI Community\\n            \\nJoin the community for AI architects and builders to learn, share ideas and connect with others.\\n\\nFind your community\\n\\n\\n\\n\\n\\n\\n\\n\\n                Video\\n            \\n\\n                Reimagine business productivity with AI agents and assistants\\n            \\nExplore the difference between AI agents and assistants and learn how they can be a gamechanger for enterprise productivity.\\n\\nWatch now\\n\\n\\n\\n\\n\\n\\n\\n\\n                Podcast'),\n",
       " Document(metadata={'source': 'https://www.ibm.com/think/topics/langgraph', 'title': 'What is LangGraph? | IBM', 'description': 'Stay ahead of the curve with AI-powered solutions that enhance productivity and streamline workflows using WatsonX and LangGraph.', 'language': 'en'}, page_content='Watch now\\n\\n\\n\\n\\n\\n\\n\\n\\n                Podcast\\n            \\n\\n                2024 Rewind: Breakthroughs in AI models, agents, hardware and products\\n            \\nWill 2025 be the year of AI agents? On this episode of Mixture of Experts, we review AI models, agents, hardware and product releases with some of the top industry experts.\\r\\n\\n\\nListen now\\n\\n\\n\\n\\n\\n\\n\\n\\n                Podcast\\n            \\n\\n                How AI agents will reinvent productivity\\n            \\nLearn ways to use AI to be more creative and efficient. Start adapting to a future that involves working closely with AI agents.\\n\\nListen now\\n\\n\\n\\n\\n\\n\\n\\n\\n\\n\\n\\n\\n\\n\\n\\n\\n\\n\\n\\n\\n\\n\\n\\n\\n        \\n        \\n\\n     \\n    Related solutions\\n\\n\\n\\n\\n    \\n\\n\\n    \\n\\n\\n\\n\\n\\n\\n\\n\\n\\n\\n\\n\\n\\n\\n\\n\\n\\n\\n\\n\\n\\n\\n\\n\\n\\n\\n\\n\\n\\n\\n\\n\\n\\n\\n\\n\\n\\n\\n\\n\\n\\n\\n\\n\\n\\n\\n\\n\\n\\n\\n\\n\\n\\n\\n\\n\\n\\n\\n        \\n\\n\\n\\n  \\n    IBM AI agent development\\xa0\\n\\n\\n\\n\\n\\n\\n    \\n\\n\\n    \\n\\n\\n\\nEnable developers to build, deploy and monitor AI agents with the IBM watsonx.ai studio.\\n\\n\\n\\n\\nExplore watsonx.ai'),\n",
       " Document(metadata={'source': 'https://www.ibm.com/think/topics/langgraph', 'title': 'What is LangGraph? | IBM', 'description': 'Stay ahead of the curve with AI-powered solutions that enhance productivity and streamline workflows using WatsonX and LangGraph.', 'language': 'en'}, page_content=\"Enable developers to build, deploy and monitor AI agents with the IBM watsonx.ai studio.\\n\\n\\n\\n\\nExplore watsonx.ai\\n                \\n            \\n\\n\\n\\n\\n\\n\\n\\n\\n\\n\\n\\n\\n\\n\\n\\n\\n\\n\\n\\n\\n\\n\\n\\n\\n\\n\\n\\n\\n\\n\\n\\n\\n\\n\\n\\n\\n\\n\\n\\n\\n\\n\\n\\n\\n\\n\\n\\n\\n\\n\\n\\n\\n\\n\\n\\n\\n\\n\\n\\n\\n\\n        \\n\\n\\n\\n  \\n    IBM AI agents and assistants\\n\\n\\n\\n\\n\\n\\n    \\n\\n\\n    \\n\\n\\n\\nCreate breakthrough productivity with one of the industry's most comprehensive set of capabilities for helping businesses build, customize and manage AI agents and assistants.\\xa0\\n\\n\\n\\n\\nExplore AI agents\\n                \\n            \\n\\n\\n\\n\\n\\n\\n\\n\\n\\n\\n\\n\\n\\n\\n\\n\\n\\n\\n\\n\\n\\n\\n\\n\\n\\n\\n\\n\\n\\n\\n\\n\\n\\n\\n\\n\\n\\n\\n\\n\\n\\n\\n\\n\\n\\n\\n\\n\\n\\n\\n\\n\\n\\n\\n\\n\\n\\n\\n\\n\\n\\n\\n        \\n\\n\\n\\n  \\n    IBM Granite\\n\\n\\n\\n\\n\\n\\n    \\n\\n\\n    \\n\\n\\n\\nAchieve over 90% cost savings with Granite's smaller and open models, designed for developer efficiency.\\xa0These enterprise-ready models deliver exceptional performance against safety benchmarks and across a wide range of enterprise tasks from cybersecurity to RAG.\\n\\n\\n\\n\\nExplore Granite\\n                \\n            \\n\\n\\n\\n\\n\\n\\n\\n\\n\\n\\n\\n\\n\\n\\n\\n\\n\\n\\n\\n\\nTake the next step\"),\n",
       " Document(metadata={'source': 'https://www.ibm.com/think/topics/langgraph', 'title': 'What is LangGraph? | IBM', 'description': 'Stay ahead of the curve with AI-powered solutions that enhance productivity and streamline workflows using WatsonX and LangGraph.', 'language': 'en'}, page_content=\"Explore Granite\\n                \\n            \\n\\n\\n\\n\\n\\n\\n\\n\\n\\n\\n\\n\\n\\n\\n\\n\\n\\n\\n\\n\\nTake the next step\\n\\n\\n\\n\\nAutomate your complex workflows and create breakthrough productivity with one of the industry's most comprehensive set of capabilities for helping businesses build, customize and manage AI agents and assistants.\\xa0\\n\\n\\n\\n\\n\\n\\nExplore watsonx.ai agent development\\n\\n\\n\\n\\n\\nDiscover watsonx Orchestrate\")]"
      ]
     },
     "execution_count": 4,
     "metadata": {},
     "output_type": "execute_result"
    }
   ],
   "source": [
    "from langchain_text_splitters import RecursiveCharacterTextSplitter\n",
    "\n",
    "text_splitter = RecursiveCharacterTextSplitter(chunk_size=1000, chunk_overlap=200)\n",
    "splits = text_splitter.split_documents(docs)\n",
    "splits"
   ]
  },
  {
   "cell_type": "markdown",
   "id": "25b13f9c",
   "metadata": {},
   "source": [
    "#### Step 3:- Use Embedding techniques to convert the documnets into vectors"
   ]
  },
  {
   "cell_type": "code",
   "execution_count": 5,
   "id": "7b617ef2",
   "metadata": {},
   "outputs": [],
   "source": [
    "from langchain_openai import OpenAIEmbeddings\n",
    "\n",
    "embeddings = OpenAIEmbeddings()"
   ]
  },
  {
   "cell_type": "markdown",
   "id": "519c5c15",
   "metadata": {},
   "source": [
    "#### Step 4:- Store the documents and embeding into VectorDB. Here using FAISS"
   ]
  },
  {
   "cell_type": "code",
   "execution_count": 6,
   "id": "e0b2d2bb",
   "metadata": {},
   "outputs": [],
   "source": [
    "from langchain_community.vectorstores import FAISS\n",
    "\n",
    "vectorStoredb = FAISS.from_documents(splits,embeddings)"
   ]
  },
  {
   "cell_type": "code",
   "execution_count": 7,
   "id": "e1a01c73",
   "metadata": {},
   "outputs": [
    {
     "data": {
      "text/plain": [
       "<langchain_community.vectorstores.faiss.FAISS at 0x22844e14590>"
      ]
     },
     "execution_count": 7,
     "metadata": {},
     "output_type": "execute_result"
    }
   ],
   "source": [
    "vectorStoredb"
   ]
  },
  {
   "cell_type": "markdown",
   "id": "da64f09c",
   "metadata": {},
   "source": [
    "#### Step 5:- Qurey from a vectordb (Similarity search)"
   ]
  },
  {
   "cell_type": "code",
   "execution_count": null,
   "id": "b15af56a",
   "metadata": {},
   "outputs": [
    {
     "data": {
      "text/plain": [
       "(Document(id='e3be118b-a2b5-4a6a-a33a-ceab41af9489', metadata={'source': 'https://www.ibm.com/think/topics/langgraph', 'title': 'What is LangGraph? | IBM', 'description': 'Stay ahead of the curve with AI-powered solutions that enhance productivity and streamline workflows using WatsonX and LangGraph.', 'language': 'en'}, page_content='Nodes: In LangGraph, nodes represent individual components or agents within an AI workflow. Nodes can be thought of as “actors” that interact with each other in a specific way. For example,\\xa0to add nodes for tool calling, one can use the ToolNode. Another example, the next node, refers to the node that will be executed following the current one.\\nEdges: Edges are a function within Python that determines which node to execute next based on the current state. Edges can be conditional branches or fixed transitions.'),\n",
       " np.float32(0.84245634))"
      ]
     },
     "execution_count": 11,
     "metadata": {},
     "output_type": "execute_result"
    }
   ],
   "source": [
    "query = \"Edges: Edges are a function within Python that determines which node to execute next based on the current state. Edges can be conditional branches or fixed transitions.\"\n",
    "result = vectorStoredb.similarity_search_with_relevance_scores(query)\n",
    "result[0]"
   ]
  },
  {
   "cell_type": "markdown",
   "id": "1716c0b1",
   "metadata": {},
   "source": [
    "#### Step 6:- Create LLM"
   ]
  },
  {
   "cell_type": "code",
   "execution_count": 12,
   "id": "2655f0be",
   "metadata": {},
   "outputs": [],
   "source": [
    "from langchain_openai import ChatOpenAI\n",
    "llm=ChatOpenAI(model=\"gpt-4o\")"
   ]
  },
  {
   "cell_type": "code",
   "execution_count": 13,
   "id": "8c1aba9c",
   "metadata": {},
   "outputs": [
    {
     "data": {
      "text/plain": [
       "RunnableBinding(bound=RunnableBinding(bound=RunnableAssign(mapper={\n",
       "  context: RunnableLambda(format_docs)\n",
       "}), kwargs={}, config={'run_name': 'format_inputs'}, config_factories=[])\n",
       "| ChatPromptTemplate(input_variables=['context'], input_types={}, partial_variables={}, messages=[HumanMessagePromptTemplate(prompt=PromptTemplate(input_variables=['context'], input_types={}, partial_variables={}, template='\\nAnswer the following question based only on the provided context:\\n<context>\\n{context}\\n<context>\\n\\n'), additional_kwargs={})])\n",
       "| ChatOpenAI(client=<openai.resources.chat.completions.completions.Completions object at 0x00000228A78F0EC0>, async_client=<openai.resources.chat.completions.completions.AsyncCompletions object at 0x00000228A78F3A10>, root_client=<openai.OpenAI object at 0x00000228A792B750>, root_async_client=<openai.AsyncOpenAI object at 0x00000228A792BD90>, model_name='gpt-4o', model_kwargs={}, openai_api_key=SecretStr('**********'))\n",
       "| StrOutputParser(), kwargs={}, config={'run_name': 'stuff_documents_chain'}, config_factories=[])"
      ]
     },
     "execution_count": 13,
     "metadata": {},
     "output_type": "execute_result"
    }
   ],
   "source": [
    "## Retrieval Chain, Document chain\n",
    "\n",
    "from langchain.chains.combine_documents import create_stuff_documents_chain\n",
    "from langchain_core.prompts import ChatPromptTemplate\n",
    "\n",
    "prompt = ChatPromptTemplate.from_template(\n",
    "    \"\"\"\n",
    "Answer the following question based only on the provided context:\n",
    "<context>\n",
    "{context}\n",
    "<context>\n",
    "\n",
    "\"\"\"\n",
    ")\n",
    "\n",
    "document_chain=create_stuff_documents_chain(llm,prompt)\n",
    "document_chain"
   ]
  },
  {
   "cell_type": "code",
   "execution_count": 15,
   "id": "123b01a8",
   "metadata": {},
   "outputs": [
    {
     "data": {
      "text/plain": [
       "'Edges in Python, as described in the context, determine which node to execute next based on the current state. They can either be conditional branches, where the transition to the next node depends on certain conditions being met, or fixed transitions, where the next node is predetermined.'"
      ]
     },
     "execution_count": 15,
     "metadata": {},
     "output_type": "execute_result"
    }
   ],
   "source": [
    "from langchain_core.documents import Document\n",
    "\n",
    "document_chain.invoke({\n",
    "    \"input\": \"Edges: Edges are a function within Python that determines which node to execute next based on the current state.\",\n",
    "    \"context\": [Document(page_content=\"Edges: Edges are a function within Python that determines which node to execute next based on the current state. Edges can be conditional branches or fixed transitions.\")]\n",
    "})"
   ]
  },
  {
   "cell_type": "markdown",
   "id": "9d51e8f6",
   "metadata": {},
   "source": [
    "#### Step 7:- Use retriever"
   ]
  },
  {
   "cell_type": "code",
   "execution_count": 17,
   "id": "a99119ad",
   "metadata": {},
   "outputs": [],
   "source": [
    "retriever = vectorStoredb.as_retriever()\n",
    "from langchain.chains import create_retrieval_chain\n",
    "\n",
    "retrieval_chain = create_retrieval_chain(retriever,document_chain)"
   ]
  },
  {
   "cell_type": "code",
   "execution_count": 18,
   "id": "de6e311f",
   "metadata": {},
   "outputs": [
    {
     "data": {
      "text/plain": [
       "RunnableBinding(bound=RunnableAssign(mapper={\n",
       "  context: RunnableBinding(bound=RunnableLambda(lambda x: x['input'])\n",
       "           | VectorStoreRetriever(tags=['FAISS', 'OpenAIEmbeddings'], vectorstore=<langchain_community.vectorstores.faiss.FAISS object at 0x0000022844E14590>, search_kwargs={}), kwargs={}, config={'run_name': 'retrieve_documents'}, config_factories=[])\n",
       "})\n",
       "| RunnableAssign(mapper={\n",
       "    answer: RunnableBinding(bound=RunnableBinding(bound=RunnableAssign(mapper={\n",
       "              context: RunnableLambda(format_docs)\n",
       "            }), kwargs={}, config={'run_name': 'format_inputs'}, config_factories=[])\n",
       "            | ChatPromptTemplate(input_variables=['context'], input_types={}, partial_variables={}, messages=[HumanMessagePromptTemplate(prompt=PromptTemplate(input_variables=['context'], input_types={}, partial_variables={}, template='\\nAnswer the following question based only on the provided context:\\n<context>\\n{context}\\n<context>\\n\\n'), additional_kwargs={})])\n",
       "            | ChatOpenAI(client=<openai.resources.chat.completions.completions.Completions object at 0x00000228A78F0EC0>, async_client=<openai.resources.chat.completions.completions.AsyncCompletions object at 0x00000228A78F3A10>, root_client=<openai.OpenAI object at 0x00000228A792B750>, root_async_client=<openai.AsyncOpenAI object at 0x00000228A792BD90>, model_name='gpt-4o', model_kwargs={}, openai_api_key=SecretStr('**********'))\n",
       "            | StrOutputParser(), kwargs={}, config={'run_name': 'stuff_documents_chain'}, config_factories=[])\n",
       "  }), kwargs={}, config={'run_name': 'retrieval_chain'}, config_factories=[])"
      ]
     },
     "execution_count": 18,
     "metadata": {},
     "output_type": "execute_result"
    }
   ],
   "source": [
    "retrieval_chain"
   ]
  },
  {
   "cell_type": "markdown",
   "id": "7b5ba5ec",
   "metadata": {},
   "source": [
    "#### Step 8:- Get the response from the llm"
   ]
  },
  {
   "cell_type": "code",
   "execution_count": 19,
   "id": "7daefe11",
   "metadata": {},
   "outputs": [
    {
     "data": {
      "text/plain": [
       "\"How does LangGraph facilitate the management of AI workflows and decision-making processes?\\n\\nLangGraph facilitates the management of AI workflows and decision-making processes by using a graph-based architecture, which allows for transparent tracking and management of AI states and decisions through nodes and edges. Nodes represent components or agents, and edges determine the flow of execution. LangGraph's stateful graph concept retains information about previous steps, enabling continuous and contextual processing. It supports cyclical graphs for complex workflows with cyclic dependencies. Enhanced decision-making is achieved through modeling complex relationships between nodes, offering increased flexibility and scalability in AI workflows. By enabling observability and state management, LangGraph helps in understanding system processes, useful for debugging and insights.\""
      ]
     },
     "execution_count": 19,
     "metadata": {},
     "output_type": "execute_result"
    }
   ],
   "source": [
    "response = retrieval_chain.invoke(\n",
    "    {\n",
    "        \"input\":\"Edges: Edges are a function within Python that determines which node to execute next based on the current state.\"\n",
    "    }\n",
    ")\n",
    "response['answer']"
   ]
  },
  {
   "cell_type": "code",
   "execution_count": 20,
   "metadata": {},
   "outputs": [
    {
     "data": {
      "text/plain": [
       "{'input': 'Edges: Edges are a function within Python that determines which node to execute next based on the current state.',\n",
       " 'context': [Document(id='e3be118b-a2b5-4a6a-a33a-ceab41af9489', metadata={'source': 'https://www.ibm.com/think/topics/langgraph', 'title': 'What is LangGraph? | IBM', 'description': 'Stay ahead of the curve with AI-powered solutions that enhance productivity and streamline workflows using WatsonX and LangGraph.', 'language': 'en'}, page_content='Nodes: In LangGraph, nodes represent individual components or agents within an AI workflow. Nodes can be thought of as “actors” that interact with each other in a specific way. For example,\\xa0to add nodes for tool calling, one can use the ToolNode. Another example, the next node, refers to the node that will be executed following the current one.\\nEdges: Edges are a function within Python that determines which node to execute next based on the current state. Edges can be conditional branches or fixed transitions.'),\n",
       "  Document(id='9018cb7a-14d2-4e39-8627-2a2e4f9328b4', metadata={'source': 'https://www.ibm.com/think/topics/langgraph', 'title': 'What is LangGraph? | IBM', 'description': 'Stay ahead of the curve with AI-powered solutions that enhance productivity and streamline workflows using WatsonX and LangGraph.', 'language': 'en'}, page_content='Stateful graphs: A concept where each node in the graph represents a step in the computation, essentially devising a state graph. This stateful approach allows the graph to retain information about the previous steps, enabling continuous and contextual processing of information as the computation unfolds. Users can manage all LangGraph’s stateful graphs with its APIs.\\nCyclical graph: A cyclical graph is any graph that contains at least one cycle and is essential for agent runtimes. This means that there exists a path that starts and ends at the same node, forming a loop within the graph. Complex workflows often involve cyclic dependencies, where the outcome of one step depends on previous steps in the loop.'),\n",
       "  Document(id='5a750d9b-5b77-452f-a8bc-641598034878', metadata={'source': 'https://www.ibm.com/think/topics/langgraph', 'title': 'What is LangGraph? | IBM', 'description': 'Stay ahead of the curve with AI-powered solutions that enhance productivity and streamline workflows using WatsonX and LangGraph.', 'language': 'en'}, page_content='LangGraph illuminates the processes within an AI workflow, allowing full transparency of the agent’s state. Within LangGraph, the “state” feature serves as a memory bank that records and tracks all the valuable information processed by the AI system. It’s similar to a digital notebook where the system captures and updates data as it moves through various stages of a workflow or graph analysis.\\nFor example, if you were running agents to monitor the weather, this feature could track the number of times it snowed and make suggestions based on changing snowfall trends. This observability of how the system works to complete complex tasks is useful for beginners to understand more about state management. State management is helpful when it comes to debugging as it allows the application’s state to be centralized, thus often shortening the overall process.'),\n",
       "  Document(id='fafff4c5-9dad-448d-903b-385e010d6a42', metadata={'source': 'https://www.ibm.com/think/topics/langgraph', 'title': 'What is LangGraph? | IBM', 'description': 'Stay ahead of the curve with AI-powered solutions that enhance productivity and streamline workflows using WatsonX and LangGraph.', 'language': 'en'}, page_content='By using a graph-based architecture, LangGraph enables users to scale artificial intelligence workflows without slowing down or sacrificing efficiency. LangGraph uses enhanced decision-making by modeling complex relationships between nodes, which means it uses AI agents to analyze their past actions and feedback. In the world of LLMs, this process is referred to as reflection.\\nEnhanced decision-making: By modeling complex relationships between nodes, LangGraph provides a framework for building more effective decision-making systems.\\nIncreased flexibility: An open source nature and modular design for developers to integrate new components and adapt existing workflows.')],\n",
       " 'answer': \"How does LangGraph facilitate the management of AI workflows and decision-making processes?\\n\\nLangGraph facilitates the management of AI workflows and decision-making processes by using a graph-based architecture, which allows for transparent tracking and management of AI states and decisions through nodes and edges. Nodes represent components or agents, and edges determine the flow of execution. LangGraph's stateful graph concept retains information about previous steps, enabling continuous and contextual processing. It supports cyclical graphs for complex workflows with cyclic dependencies. Enhanced decision-making is achieved through modeling complex relationships between nodes, offering increased flexibility and scalability in AI workflows. By enabling observability and state management, LangGraph helps in understanding system processes, useful for debugging and insights.\"}"
      ]
     },
     "execution_count": 20,
     "metadata": {},
     "output_type": "execute_result"
    }
   ],
   "source": [
    "response"
   ]
  },
  {
   "cell_type": "code",
   "execution_count": 21,
   "id": "94ac8330",
   "metadata": {},
   "outputs": [
    {
     "data": {
      "text/plain": [
       "[Document(id='e3be118b-a2b5-4a6a-a33a-ceab41af9489', metadata={'source': 'https://www.ibm.com/think/topics/langgraph', 'title': 'What is LangGraph? | IBM', 'description': 'Stay ahead of the curve with AI-powered solutions that enhance productivity and streamline workflows using WatsonX and LangGraph.', 'language': 'en'}, page_content='Nodes: In LangGraph, nodes represent individual components or agents within an AI workflow. Nodes can be thought of as “actors” that interact with each other in a specific way. For example,\\xa0to add nodes for tool calling, one can use the ToolNode. Another example, the next node, refers to the node that will be executed following the current one.\\nEdges: Edges are a function within Python that determines which node to execute next based on the current state. Edges can be conditional branches or fixed transitions.'),\n",
       " Document(id='9018cb7a-14d2-4e39-8627-2a2e4f9328b4', metadata={'source': 'https://www.ibm.com/think/topics/langgraph', 'title': 'What is LangGraph? | IBM', 'description': 'Stay ahead of the curve with AI-powered solutions that enhance productivity and streamline workflows using WatsonX and LangGraph.', 'language': 'en'}, page_content='Stateful graphs: A concept where each node in the graph represents a step in the computation, essentially devising a state graph. This stateful approach allows the graph to retain information about the previous steps, enabling continuous and contextual processing of information as the computation unfolds. Users can manage all LangGraph’s stateful graphs with its APIs.\\nCyclical graph: A cyclical graph is any graph that contains at least one cycle and is essential for agent runtimes. This means that there exists a path that starts and ends at the same node, forming a loop within the graph. Complex workflows often involve cyclic dependencies, where the outcome of one step depends on previous steps in the loop.'),\n",
       " Document(id='5a750d9b-5b77-452f-a8bc-641598034878', metadata={'source': 'https://www.ibm.com/think/topics/langgraph', 'title': 'What is LangGraph? | IBM', 'description': 'Stay ahead of the curve with AI-powered solutions that enhance productivity and streamline workflows using WatsonX and LangGraph.', 'language': 'en'}, page_content='LangGraph illuminates the processes within an AI workflow, allowing full transparency of the agent’s state. Within LangGraph, the “state” feature serves as a memory bank that records and tracks all the valuable information processed by the AI system. It’s similar to a digital notebook where the system captures and updates data as it moves through various stages of a workflow or graph analysis.\\nFor example, if you were running agents to monitor the weather, this feature could track the number of times it snowed and make suggestions based on changing snowfall trends. This observability of how the system works to complete complex tasks is useful for beginners to understand more about state management. State management is helpful when it comes to debugging as it allows the application’s state to be centralized, thus often shortening the overall process.'),\n",
       " Document(id='fafff4c5-9dad-448d-903b-385e010d6a42', metadata={'source': 'https://www.ibm.com/think/topics/langgraph', 'title': 'What is LangGraph? | IBM', 'description': 'Stay ahead of the curve with AI-powered solutions that enhance productivity and streamline workflows using WatsonX and LangGraph.', 'language': 'en'}, page_content='By using a graph-based architecture, LangGraph enables users to scale artificial intelligence workflows without slowing down or sacrificing efficiency. LangGraph uses enhanced decision-making by modeling complex relationships between nodes, which means it uses AI agents to analyze their past actions and feedback. In the world of LLMs, this process is referred to as reflection.\\nEnhanced decision-making: By modeling complex relationships between nodes, LangGraph provides a framework for building more effective decision-making systems.\\nIncreased flexibility: An open source nature and modular design for developers to integrate new components and adapt existing workflows.')]"
      ]
     },
     "execution_count": 21,
     "metadata": {},
     "output_type": "execute_result"
    }
   ],
   "source": [
    "response['context']"
   ]
  },
  {
   "cell_type": "code",
   "execution_count": null,
   "metadata": {},
   "outputs": [],
   "source": []
  },
  {
   "cell_type": "code",
   "execution_count": null,
   "id": "7f6128fe",
   "metadata": {},
   "outputs": [],
   "source": []
  },
  {
   "cell_type": "code",
   "execution_count": null,
   "id": "3cb6604b",
   "metadata": {},
   "outputs": [],
   "source": []
  }
 ],
 "metadata": {
  "kernelspec": {
   "display_name": "Python 3",
   "language": "python",
   "name": "python3"
  },
  "language_info": {
   "codemirror_mode": {
    "name": "ipython",
    "version": 3
   },
   "file_extension": ".py",
   "mimetype": "text/x-python",
   "name": "python",
   "nbconvert_exporter": "python",
   "pygments_lexer": "ipython3",
   "version": "3.13.5"
  }
 },
 "nbformat": 4,
 "nbformat_minor": 5
}
