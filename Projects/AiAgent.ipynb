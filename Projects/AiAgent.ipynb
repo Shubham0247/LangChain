{
 "cells": [
  {
   "cell_type": "code",
   "execution_count": 1,
   "id": "a9942a3c",
   "metadata": {},
   "outputs": [
    {
     "data": {
      "text/plain": [
       "True"
      ]
     },
     "execution_count": 1,
     "metadata": {},
     "output_type": "execute_result"
    }
   ],
   "source": [
    "from dotenv import load_dotenv\n",
    "load_dotenv()"
   ]
  },
  {
   "cell_type": "code",
   "execution_count": 2,
   "id": "e7a463a6",
   "metadata": {},
   "outputs": [],
   "source": [
    "from langchain_openai import ChatOpenAI\n",
    "from langchain_core.tools import tool\n",
    "import requests"
   ]
  },
  {
   "cell_type": "code",
   "execution_count": 13,
   "id": "f0f27071",
   "metadata": {},
   "outputs": [
    {
     "name": "stderr",
     "output_type": "stream",
     "text": [
      "d:\\AI Udemy Course\\Langchain\\venv\\Lib\\site-packages\\langchain_community\\utilities\\duckduckgo_search.py:63: RuntimeWarning: This package (`duckduckgo_search`) has been renamed to `ddgs`! Use `pip install ddgs` instead.\n",
      "  with DDGS() as ddgs:\n"
     ]
    }
   ],
   "source": [
    "from langchain_community.tools import DuckDuckGoSearchRun\n",
    "\n",
    "search = DuckDuckGoSearchRun()\n",
    "\n",
    "results = search.invoke(\"Top news in india today\")"
   ]
  },
  {
   "cell_type": "code",
   "execution_count": 14,
   "id": "25d4204c",
   "metadata": {},
   "outputs": [
    {
     "data": {
      "text/plain": [
       "\"3 days ago · Today's top India news headlines, news on Indian politics, elections, government, business, technology, and Bollywood. 2 days ago · Read all India news and breaking news today from India on politics, business, entertainment, technology, sports, lifestyle … 3 days ago · Get the latest breaking news from India covering politics, economy, social issues, technology, sports, and more. Stay updated … 1 day ago · IND vs ENG, Manchester Test: After seeing off the entire morning session, India openers KL Rahul and Yashasvi Jaiswal … 1 day ago · Reuters.com is your online source for the latest India news stories and current events, ensuring our readers up to date with …\""
      ]
     },
     "execution_count": 14,
     "metadata": {},
     "output_type": "execute_result"
    }
   ],
   "source": [
    "results"
   ]
  },
  {
   "cell_type": "code",
   "execution_count": 15,
   "id": "278fcc85",
   "metadata": {},
   "outputs": [],
   "source": [
    "llm = ChatOpenAI()"
   ]
  },
  {
   "cell_type": "code",
   "execution_count": 16,
   "id": "16c42980",
   "metadata": {},
   "outputs": [
    {
     "data": {
      "text/plain": [
       "AIMessage(content='Hello! How can I assist you today?', additional_kwargs={'refusal': None}, response_metadata={'token_usage': {'completion_tokens': 9, 'prompt_tokens': 8, 'total_tokens': 17, 'completion_tokens_details': {'accepted_prediction_tokens': 0, 'audio_tokens': 0, 'reasoning_tokens': 0, 'rejected_prediction_tokens': 0}, 'prompt_tokens_details': {'audio_tokens': 0, 'cached_tokens': 0}}, 'model_name': 'gpt-3.5-turbo-0125', 'system_fingerprint': None, 'id': 'chatcmpl-BxBhXPen1INNuZcxh6jASnS7RzPQo', 'service_tier': 'default', 'finish_reason': 'stop', 'logprobs': None}, id='run--7ba23c38-186d-47a8-b0b3-ac6c9f0078b0-0', usage_metadata={'input_tokens': 8, 'output_tokens': 9, 'total_tokens': 17, 'input_token_details': {'audio': 0, 'cache_read': 0}, 'output_token_details': {'audio': 0, 'reasoning': 0}})"
      ]
     },
     "execution_count": 16,
     "metadata": {},
     "output_type": "execute_result"
    }
   ],
   "source": [
    "llm.invoke('hi')"
   ]
  },
  {
   "cell_type": "code",
   "execution_count": 17,
   "id": "014b57a9",
   "metadata": {},
   "outputs": [],
   "source": [
    "from langchain.agents import create_react_agent, AgentExecutor\n",
    "from langchain import hub"
   ]
  },
  {
   "cell_type": "code",
   "execution_count": 20,
   "id": "74fe7a95",
   "metadata": {},
   "outputs": [],
   "source": [
    "prompt = hub.pull('hwchase17/react')"
   ]
  },
  {
   "cell_type": "code",
   "execution_count": 21,
   "id": "9c8e4798",
   "metadata": {},
   "outputs": [],
   "source": [
    "agent = create_react_agent(\n",
    "    llm=llm,\n",
    "    tools = [search],\n",
    "    prompt=prompt\n",
    ")"
   ]
  },
  {
   "cell_type": "code",
   "execution_count": 22,
   "id": "0204e6e5",
   "metadata": {},
   "outputs": [],
   "source": [
    "agent_executor = AgentExecutor(\n",
    "    agent=agent,\n",
    "    tools=[search],\n",
    "    verbose=True\n",
    ")"
   ]
  },
  {
   "cell_type": "code",
   "execution_count": 26,
   "id": "1b248462",
   "metadata": {},
   "outputs": [
    {
     "name": "stdout",
     "output_type": "stream",
     "text": [
      "\n",
      "\n",
      "\u001b[1m> Entering new AgentExecutor chain...\u001b[0m\n",
      "\u001b[32;1m\u001b[1;3mI should use duckduckgo_search to find the answer to this query\n",
      "Action: duckduckgo_search\n",
      "Action Input: top performing smartphone models 2025\u001b[0m"
     ]
    },
    {
     "name": "stderr",
     "output_type": "stream",
     "text": [
      "d:\\AI Udemy Course\\Langchain\\venv\\Lib\\site-packages\\langchain_community\\utilities\\duckduckgo_search.py:63: RuntimeWarning: This package (`duckduckgo_search`) has been renamed to `ddgs`! Use `pip install ddgs` instead.\n",
      "  with DDGS() as ddgs:\n"
     ]
    },
    {
     "name": "stdout",
     "output_type": "stream",
     "text": [
      "\u001b[36;1m\u001b[1;3m6 days ago · In this guide, we break down the top-performing phones of the year based on real-world performance, expert analysis, and verified user experiences in Best Mobile Phones in 2025. Jul 18, 2025 · With the help of the phone reviews team at Tom's Guide, I've assembled a list of 10 top devices that tick all the boxes for performance, camera features and battery life. And none is … 2 days ago · While many phones offer something good, the best smartphones strike the perfect balance between hardware and software, delivering top-tier performance, efficiency, and ease of … 12 hours ago · Discover our curated selection of the Best Mobile Phones Under 20,000. Our expert-crafted list includes essential details such as prices, key specifications, high-quality images, and … Dec 13, 2024 · A mobile phone has become an essential item for individuals in today’s society. With the continuous advancement of technology, a diverse range of new phones is consistently …\u001b[0m\u001b[32;1m\u001b[1;3mI need to refine my search to get a more specific answer\n",
      "Action: duckduckgo_search\n",
      "Action Input: top performing smartphone models 2025 review\u001b[0m"
     ]
    },
    {
     "name": "stderr",
     "output_type": "stream",
     "text": [
      "d:\\AI Udemy Course\\Langchain\\venv\\Lib\\site-packages\\langchain_community\\utilities\\duckduckgo_search.py:63: RuntimeWarning: This package (`duckduckgo_search`) has been renamed to `ddgs`! Use `pip install ddgs` instead.\n",
      "  with DDGS() as ddgs:\n"
     ]
    },
    {
     "name": "stdout",
     "output_type": "stream",
     "text": [
      "\u001b[36;1m\u001b[1;3mJul 18, 2025 · With the help of the phone reviews team at Tom's Guide, I've assembled a list of 10 top devices that tick all the boxes for performance, camera features and battery life. And none is …These are the best cheap phones under …Our iPhone vs. Android face-off will help … Jun 24, 2025 · From the powerful Apple iPhone 16 Pro Max to the versatile Samsung Galaxy S25 Ultra and the photography-focused Vivo X200 Pro, these devices are leading the charge in … 6 days ago · In this guide, we break down the top-performing phones of the year based on real-world performance, expert analysis, and verified user experiences in Best Mobile Phones in 2025. 2 days ago · Our top 10 smartphones list includes the most powerful and feature-rich devices available in India, running on the latest versions of iOS and Android, with most Android flagships … Jan 9, 2025 · Looking to upgrade your phone? Check out the top ten 2025 smartphones with the best cameras, fast processors, and long-lasting batteries today!\u001b[0m\u001b[32;1m\u001b[1;3mI should check the latest reviews and rankings to get the most up-to-date information\n",
      "Action: duckduckgo_search\n",
      "Action Input: top smartphone models 2025 ranking\u001b[0m"
     ]
    },
    {
     "name": "stderr",
     "output_type": "stream",
     "text": [
      "d:\\AI Udemy Course\\Langchain\\venv\\Lib\\site-packages\\langchain_community\\utilities\\duckduckgo_search.py:63: RuntimeWarning: This package (`duckduckgo_search`) has been renamed to `ddgs`! Use `pip install ddgs` instead.\n",
      "  with DDGS() as ddgs:\n"
     ]
    },
    {
     "name": "stdout",
     "output_type": "stream",
     "text": [
      "\u001b[36;1m\u001b[1;3mMay 28, 2025 · To add Windows PE to your ADK installation, download and install the Windows PE add-on after installing the ADK. The Windows Assessment and Deployment Kit (Windows … Agent Development Kit (ADK) is a flexible and modular framework for developing and deploying AI agents. While optimized for Gemini and the Google ecosystem, ADK is model-agnostic, … Jan 22, 2025 · Windows ADK contains deployment tools such as WinPE, Sysprep, and other tools that you can use to customize and deploy Windows 11 images. Not only that, but you can use … 1 day ago · The Windows Assessment and Deployment Kit or ADK is a collection of tools that you can use to customize, assess, and deploy Windows operating systems to new computers. Apr 22, 2025 · The Windows ADK is most commonly used to automatically deploy the Windows OS and customize Windows images on new PCs. IT teams can also use the Windows ADK …\u001b[0m\u001b[32;1m\u001b[1;3mI may need to search for a more specific list of smartphone rankings for the year 2025\n",
      "Action: duckduckgo_search\n",
      "Action Input: top smartphone models 2025 rankings\u001b[0m"
     ]
    },
    {
     "name": "stderr",
     "output_type": "stream",
     "text": [
      "d:\\AI Udemy Course\\Langchain\\venv\\Lib\\site-packages\\langchain_community\\utilities\\duckduckgo_search.py:63: RuntimeWarning: This package (`duckduckgo_search`) has been renamed to `ddgs`! Use `pip install ddgs` instead.\n",
      "  with DDGS() as ddgs:\n"
     ]
    },
    {
     "name": "stdout",
     "output_type": "stream",
     "text": [
      "\u001b[36;1m\u001b[1;3mTOP definition: 1. the highest place or part: 2. the flat upper surface of something: 3. in baseball, the first…. Learn more. TOP翻译：顶部, 顶；顶端；顶部, 上层表面, 衣服, 上装，上衣, 盖, （容器或笔的）盖子, 最重要, 玩具, 陀螺（同 spinning top ... 再来具体谈谈什么是拓扑图吧！ 拓扑图也叫作拓扑结构图，是指由计算机、打印机、网络设备以及其他设备构成的网络结构图 其实就是将实物的连接方式用图形表现出来哦~ 拓扑图可以通过图形传递量化信 … The Top Eleven Forum is the ultimate place to discuss football management simulation game strategies, to meet fellow Managers and to share your opinion! ON TOP OF SOMETHING definition: 1. in addition to something, especially something unpleasant: 2. in control of something or …\u001b[0m\u001b[32;1m\u001b[1;3mI should try searching for a specific article or review that lists the top smartphone models of 2025\n",
      "Action: duckduckgo_search\n",
      "Action Input: top smartphone models 2025 review article\u001b[0m"
     ]
    },
    {
     "name": "stderr",
     "output_type": "stream",
     "text": [
      "d:\\AI Udemy Course\\Langchain\\venv\\Lib\\site-packages\\langchain_community\\utilities\\duckduckgo_search.py:63: RuntimeWarning: This package (`duckduckgo_search`) has been renamed to `ddgs`! Use `pip install ddgs` instead.\n",
      "  with DDGS() as ddgs:\n"
     ]
    },
    {
     "name": "stdout",
     "output_type": "stream",
     "text": [
      "\u001b[36;1m\u001b[1;3mTOP definition: 1. the highest place or part: 2. the flat upper surface of something: 3. in baseball, the first…. Learn more. TOP翻译：顶部, 顶；顶端；顶部, 上层表面, 衣服, 上装，上衣, 盖, （容器或笔的）盖子, 最重要, 玩具, 陀螺（同 spinning top ... 再来具体谈谈什么是拓扑图吧！ 拓扑图也叫作拓扑结构图，是指由计算机、打印机、网络设备以及其他设备构成的网络结构图 其实就是将实物的连接方式用图形表现出来哦~ 拓扑图可以通过图 … The Top Eleven Forum is the ultimate place to discuss football management simulation game strategies, to meet fellow Managers and to share your opinion! ON TOP OF SOMETHING definition: 1. in addition to something, especially something unpleasant: 2. in control of something or able…. Learn more.\u001b[0m\u001b[32;1m\u001b[1;3mI may need to try different search terms to find a specific list of the top smartphone models in 2025\n",
      "Action: duckduckgo_search\n",
      "Action Input: best smartphones 2025 ranking\u001b[0m"
     ]
    },
    {
     "name": "stderr",
     "output_type": "stream",
     "text": [
      "d:\\AI Udemy Course\\Langchain\\venv\\Lib\\site-packages\\langchain_community\\utilities\\duckduckgo_search.py:63: RuntimeWarning: This package (`duckduckgo_search`) has been renamed to `ddgs`! Use `pip install ddgs` instead.\n",
      "  with DDGS() as ddgs:\n"
     ]
    },
    {
     "name": "stdout",
     "output_type": "stream",
     "text": [
      "\u001b[36;1m\u001b[1;3mOct 18, 2018 · In your context, the best relates to {something}, whereas best relates to a course of action. Plastic, wood, or metal container? What was the best choice for … Best wishes 和 Best regards 有什么区别?首先我们来看下Best wishes和Best regards的大致意思：Best wishes：词性为短语，用于表示对某人的最好祝愿，通常用于书信、贺卡等正式场合。Best … Oct 20, 2016 · Both sentences could mean the same thing, however I like you best. I like chocolate best, better than anything else can be used when what one is choosing from is … 英文信件最后Sincerely，Regards，Best Wishes 有什么区别英文信件最后Sincerely，Regards，Best Wishes唯一区别是使用场所不同。 1、Sincerely日常交往、商务或更 … May 25, 2022 · \"Which one is the best\" is obviously a question format, so it makes sense that \" which one the best is \" should be the correct form. This is very good instinct, …\u001b[0m\u001b[32;1m\u001b[1;3mI should try more specific search terms to find the rankings for 2025 smartphone models\n",
      "Action: duckduckgo_search\n",
      "Action Input: top smartphone models in 2025 ranking review\u001b[0m"
     ]
    },
    {
     "name": "stderr",
     "output_type": "stream",
     "text": [
      "d:\\AI Udemy Course\\Langchain\\venv\\Lib\\site-packages\\langchain_community\\utilities\\duckduckgo_search.py:63: RuntimeWarning: This package (`duckduckgo_search`) has been renamed to `ddgs`! Use `pip install ddgs` instead.\n",
      "  with DDGS() as ddgs:\n"
     ]
    },
    {
     "name": "stdout",
     "output_type": "stream",
     "text": [
      "\u001b[36;1m\u001b[1;3mTOP definition: 1. the highest place or part: 2. the flat upper surface of something: 3. in baseball, the first…. Learn more. TOP翻译：顶部, 顶；顶端；顶部, 上层表面, 衣服, 上装，上衣, 盖, （容器或笔的）盖子, 最重要, 玩具, 陀螺（同 spinning top ... 再来具体谈谈什么是拓扑图吧！ 拓扑图也叫作拓扑结构图，是指由计算机、打印机、网络设备以及其他设备构成的网络结构图 其实就是将实物的连接方式用图形表现出来哦~ 拓扑图可以通过图形传递量 … The Top Eleven Forum is the ultimate place to discuss football management simulation game strategies, to meet fellow Managers and to share your opinion! ON TOP OF SOMETHING definition: 1. in addition to something, especially something unpleasant: 2. in control of something or able…. Learn more.\u001b[0m\u001b[32;1m\u001b[1;3mI need to try another approach to find the specific ranking of smartphone models in 2025\n",
      "Action: duckduckgo_search\n",
      "Action Input: best smartphone models 2025 list\u001b[0m"
     ]
    },
    {
     "name": "stderr",
     "output_type": "stream",
     "text": [
      "d:\\AI Udemy Course\\Langchain\\venv\\Lib\\site-packages\\langchain_community\\utilities\\duckduckgo_search.py:63: RuntimeWarning: This package (`duckduckgo_search`) has been renamed to `ddgs`! Use `pip install ddgs` instead.\n",
      "  with DDGS() as ddgs:\n"
     ]
    },
    {
     "name": "stdout",
     "output_type": "stream",
     "text": [
      "\u001b[36;1m\u001b[1;3mOct 18, 2018 · In your context, the best relates to {something}, whereas best relates to a course of action. Plastic, wood, or metal container? What was … Best wishes 和 Best regards 有什么区别?首先我们来看下Best wishes和Best regards的大致意思：Best wishes：词性为短语，用于表示对某人的最好祝愿，通 … Oct 20, 2016 · Both sentences could mean the same thing, however I like you best. I like chocolate best, better than anything else can be used when what … 英文信件最后Sincerely，Regards，Best Wishes 有什么区别英文信件最后Sincerely，Regards，Best Wishes唯一区别是使用场所不同。 1、Sincerely日常 … May 25, 2022 · \"Which one is the best\" is obviously a question format, so it makes sense that \" which one the best is \" should be the correct form. This is …\u001b[0m\u001b[32;1m\u001b[1;3mI should try a different search engine to find the rankings of smartphone models in 2025\n",
      "Action: duckduckgo_search\n",
      "Action Input: best smartphone models 2025 rankings\u001b[0m"
     ]
    },
    {
     "name": "stderr",
     "output_type": "stream",
     "text": [
      "d:\\AI Udemy Course\\Langchain\\venv\\Lib\\site-packages\\langchain_community\\utilities\\duckduckgo_search.py:63: RuntimeWarning: This package (`duckduckgo_search`) has been renamed to `ddgs`! Use `pip install ddgs` instead.\n",
      "  with DDGS() as ddgs:\n"
     ]
    },
    {
     "name": "stdout",
     "output_type": "stream",
     "text": [
      "\u001b[36;1m\u001b[1;3mJun 24, 2025 · This curated list from Analytics Insight presents the Top 100 Smartphones of 2025, showcasing devices engineered to meet diverse user demands across productivity, … May 28, 2025 · Apple’s iPhone 16 was the best-selling smartphone in Q1 2025. This also marked the return of the iPhone series’ base variant to the top spot in the first quarter after a two-year … Jun 16, 2025 · So many phones, so little time: In the last few months, we have again tested many smartphones for you, from high-end camera crackers to affordable entry-level phones with a … Jul 18, 2025 · These are the best phones you can buy at a wide range of prices based on our extensive testing and head-to-head comparisons. Feb 10, 2025 · Compare top models and key features in our Smartphone Buying Guide 2025 before making a decision! For those who want top-tier performance, best-in-class cameras, …\u001b[0m\u001b[32;1m\u001b[1;3mI now know the final answer\n",
      "Final Answer: Some of the top smartphone models in 2025 include the powerful Apple iPhone 16 Pro Max, the versatile Samsung Galaxy S25 Ultra, and the photography-focused Vivo X200 Pro.\u001b[0m\n",
      "\n",
      "\u001b[1m> Finished chain.\u001b[0m\n",
      "{'input': 'top performing smartphone models in the year 2025', 'output': 'Some of the top smartphone models in 2025 include the powerful Apple iPhone 16 Pro Max, the versatile Samsung Galaxy S25 Ultra, and the photography-focused Vivo X200 Pro.'}\n"
     ]
    }
   ],
   "source": [
    "response = agent_executor.invoke({'input':'top performing smartphone models in the year 2025'})\n",
    "print(response)"
   ]
  },
  {
   "cell_type": "code",
   "execution_count": null,
   "id": "c02a0883",
   "metadata": {},
   "outputs": [],
   "source": []
  }
 ],
 "metadata": {
  "kernelspec": {
   "display_name": "Python 3",
   "language": "python",
   "name": "python3"
  },
  "language_info": {
   "codemirror_mode": {
    "name": "ipython",
    "version": 3
   },
   "file_extension": ".py",
   "mimetype": "text/x-python",
   "name": "python",
   "nbconvert_exporter": "python",
   "pygments_lexer": "ipython3",
   "version": "3.13.5"
  }
 },
 "nbformat": 4,
 "nbformat_minor": 5
}
