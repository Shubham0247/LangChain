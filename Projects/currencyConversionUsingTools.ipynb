{
 "cells": [
  {
   "cell_type": "code",
   "execution_count": 95,
   "id": "48ae88aa",
   "metadata": {},
   "outputs": [
    {
     "data": {
      "text/plain": [
       "True"
      ]
     },
     "execution_count": 95,
     "metadata": {},
     "output_type": "execute_result"
    }
   ],
   "source": [
    "from dotenv import load_dotenv\n",
    "load_dotenv()"
   ]
  },
  {
   "cell_type": "code",
   "execution_count": 96,
   "id": "8db69157",
   "metadata": {},
   "outputs": [],
   "source": [
    "from langchain_community.tools import tool\n",
    "from langchain_openai import ChatOpenAI\n",
    "from langchain_core.messages import HumanMessage\n",
    "import requests"
   ]
  },
  {
   "cell_type": "code",
   "execution_count": 97,
   "id": "8bc18034",
   "metadata": {},
   "outputs": [],
   "source": [
    "## tool create\n",
    "\n",
    "from langchain_core.tools import InjectedToolArg\n",
    "from typing import Annotated\n",
    "\n",
    "@tool\n",
    "def get_conversion_factor(base_currency: str, target_currency: str) -> float:\n",
    "    \"\"\"This function fetches the currency conversion factor between a given base currency and a target currency\"\"\"\n",
    "\n",
    "    url = f\"https://v6.exchangerate-api.com/v6/97fcb21b253f902d8ed799f5/pair/{base_currency}/{target_currency}\"\n",
    "\n",
    "    response = requests.get(url)\n",
    "    return response.json()\n",
    "\n",
    "@tool\n",
    "def convert(base_currency_value: int, conversion_rate: Annotated[float,InjectedToolArg]) -> float:\n",
    "    \"\"\"\n",
    "    Given a currency conversion rate, this function calculates the target currency value from a given base currency value\n",
    "    \"\"\"\n",
    "\n",
    "    return base_currency_value*conversion_rate"
   ]
  },
  {
   "cell_type": "code",
   "execution_count": 98,
   "id": "d9a2bb0a",
   "metadata": {},
   "outputs": [
    {
     "data": {
      "text/plain": [
       "{'result': 'success',\n",
       " 'documentation': 'https://www.exchangerate-api.com/docs',\n",
       " 'terms_of_use': 'https://www.exchangerate-api.com/terms',\n",
       " 'time_last_update_unix': 1753401601,\n",
       " 'time_last_update_utc': 'Fri, 25 Jul 2025 00:00:01 +0000',\n",
       " 'time_next_update_unix': 1753488001,\n",
       " 'time_next_update_utc': 'Sat, 26 Jul 2025 00:00:01 +0000',\n",
       " 'base_code': 'USD',\n",
       " 'target_code': 'INR',\n",
       " 'conversion_rate': 86.4296}"
      ]
     },
     "execution_count": 98,
     "metadata": {},
     "output_type": "execute_result"
    }
   ],
   "source": [
    "get_conversion_factor.invoke({'base_currency':'USD','target_currency':'INR'})"
   ]
  },
  {
   "cell_type": "code",
   "execution_count": 99,
   "id": "2fa97e08",
   "metadata": {},
   "outputs": [
    {
     "data": {
      "text/plain": [
       "864.2"
      ]
     },
     "execution_count": 99,
     "metadata": {},
     "output_type": "execute_result"
    }
   ],
   "source": [
    "convert.invoke({'base_currency_value':10,'conversion_rate':86.42})"
   ]
  },
  {
   "cell_type": "code",
   "execution_count": 100,
   "id": "348c85ce",
   "metadata": {},
   "outputs": [],
   "source": [
    "## tool binding\n",
    "\n",
    "llm = ChatOpenAI()"
   ]
  },
  {
   "cell_type": "code",
   "execution_count": 101,
   "id": "49371c88",
   "metadata": {},
   "outputs": [],
   "source": [
    "llm_with_tools = llm.bind_tools([get_conversion_factor, convert])"
   ]
  },
  {
   "cell_type": "code",
   "execution_count": 118,
   "id": "7bc66f06",
   "metadata": {},
   "outputs": [],
   "source": [
    "messages = [HumanMessage('can you convert 72 indian rupess to usd and also tell What is the conversion factor between them')]"
   ]
  },
  {
   "cell_type": "code",
   "execution_count": 119,
   "id": "5a5f2148",
   "metadata": {},
   "outputs": [
    {
     "data": {
      "text/plain": [
       "[HumanMessage(content='can you convert 72 indian rupess to usd and also tell What is the conversion factor between them', additional_kwargs={}, response_metadata={})]"
      ]
     },
     "execution_count": 119,
     "metadata": {},
     "output_type": "execute_result"
    }
   ],
   "source": [
    "messages"
   ]
  },
  {
   "cell_type": "code",
   "execution_count": 120,
   "id": "45b99b1e",
   "metadata": {},
   "outputs": [],
   "source": [
    "ai_message = llm_with_tools.invoke(messages)"
   ]
  },
  {
   "cell_type": "code",
   "execution_count": 121,
   "id": "d2315bd1",
   "metadata": {},
   "outputs": [],
   "source": [
    "messages.append(ai_message)"
   ]
  },
  {
   "cell_type": "code",
   "execution_count": 122,
   "id": "abd4375e",
   "metadata": {},
   "outputs": [
    {
     "data": {
      "text/plain": [
       "[{'name': 'get_conversion_factor',\n",
       "  'args': {'base_currency': 'INR', 'target_currency': 'USD'},\n",
       "  'id': 'call_OOPw2Wy1oQ97mfUsb6cC44hw',\n",
       "  'type': 'tool_call'},\n",
       " {'name': 'convert',\n",
       "  'args': {'base_currency_value': 72},\n",
       "  'id': 'call_1U8uY5wdGh8NQibfq4ebRAwS',\n",
       "  'type': 'tool_call'}]"
      ]
     },
     "execution_count": 122,
     "metadata": {},
     "output_type": "execute_result"
    }
   ],
   "source": [
    "ai_message.tool_calls"
   ]
  },
  {
   "cell_type": "code",
   "execution_count": 123,
   "id": "1f3ac520",
   "metadata": {},
   "outputs": [],
   "source": [
    "import json\n",
    "for tool_call in ai_message.tool_calls:\n",
    "    # execute the first tool and get the value of conversion rate\n",
    "\n",
    "    if tool_call['name'] == 'get_conversion_factor':\n",
    "        tool_msg1 = get_conversion_factor.invoke(tool_call)\n",
    "\n",
    "        # fetch this conversion rate\n",
    "        conversion_rate = json.loads(tool_msg1.content)['conversion_rate']\n",
    "\n",
    "        # append this tool message to message list\n",
    "        messages.append(tool_msg1)\n",
    "\n",
    "    # execute the second tool using the conversion rate from tool 1\n",
    "\n",
    "    if tool_call['name'] == 'convert':\n",
    "        ## fetch the current arg\n",
    "        tool_call['args']['conversion_rate'] = conversion_rate\n",
    "\n",
    "        tool_msg2 = convert.invoke(tool_call)\n",
    "\n",
    "        messages.append(tool_msg2)"
   ]
  },
  {
   "cell_type": "code",
   "execution_count": 124,
   "id": "01fc2837",
   "metadata": {},
   "outputs": [
    {
     "data": {
      "text/plain": [
       "[HumanMessage(content='can you convert 72 indian rupess to usd and also tell What is the conversion factor between them', additional_kwargs={}, response_metadata={}),\n",
       " AIMessage(content='', additional_kwargs={'tool_calls': [{'id': 'call_OOPw2Wy1oQ97mfUsb6cC44hw', 'function': {'arguments': '{\"base_currency\": \"INR\", \"target_currency\": \"USD\"}', 'name': 'get_conversion_factor'}, 'type': 'function'}, {'id': 'call_1U8uY5wdGh8NQibfq4ebRAwS', 'function': {'arguments': '{\"base_currency_value\": 72}', 'name': 'convert'}, 'type': 'function'}], 'refusal': None}, response_metadata={'token_usage': {'completion_tokens': 52, 'prompt_tokens': 121, 'total_tokens': 173, 'completion_tokens_details': {'accepted_prediction_tokens': 0, 'audio_tokens': 0, 'reasoning_tokens': 0, 'rejected_prediction_tokens': 0}, 'prompt_tokens_details': {'audio_tokens': 0, 'cached_tokens': 0}}, 'model_name': 'gpt-3.5-turbo-0125', 'system_fingerprint': None, 'id': 'chatcmpl-BxAa7FvL82ZU47cdehMMJ4fYDHhId', 'service_tier': 'default', 'finish_reason': 'tool_calls', 'logprobs': None}, id='run--e58688ff-8a3d-44ac-b2ff-7b11a8c981dd-0', tool_calls=[{'name': 'get_conversion_factor', 'args': {'base_currency': 'INR', 'target_currency': 'USD'}, 'id': 'call_OOPw2Wy1oQ97mfUsb6cC44hw', 'type': 'tool_call'}, {'name': 'convert', 'args': {'base_currency_value': 72, 'conversion_rate': 0.01157}, 'id': 'call_1U8uY5wdGh8NQibfq4ebRAwS', 'type': 'tool_call'}], usage_metadata={'input_tokens': 121, 'output_tokens': 52, 'total_tokens': 173, 'input_token_details': {'audio': 0, 'cache_read': 0}, 'output_token_details': {'audio': 0, 'reasoning': 0}}),\n",
       " ToolMessage(content='{\"result\": \"success\", \"documentation\": \"https://www.exchangerate-api.com/docs\", \"terms_of_use\": \"https://www.exchangerate-api.com/terms\", \"time_last_update_unix\": 1753401601, \"time_last_update_utc\": \"Fri, 25 Jul 2025 00:00:01 +0000\", \"time_next_update_unix\": 1753488001, \"time_next_update_utc\": \"Sat, 26 Jul 2025 00:00:01 +0000\", \"base_code\": \"INR\", \"target_code\": \"USD\", \"conversion_rate\": 0.01157}', name='get_conversion_factor', tool_call_id='call_OOPw2Wy1oQ97mfUsb6cC44hw'),\n",
       " ToolMessage(content='0.83304', name='convert', tool_call_id='call_1U8uY5wdGh8NQibfq4ebRAwS')]"
      ]
     },
     "execution_count": 124,
     "metadata": {},
     "output_type": "execute_result"
    }
   ],
   "source": [
    "messages"
   ]
  },
  {
   "cell_type": "code",
   "execution_count": 125,
   "id": "7c32aeff",
   "metadata": {},
   "outputs": [
    {
     "data": {
      "text/plain": [
       "'The conversion factor between Indian Rupee (INR) and US Dollar (USD) is 0.01157. \\n\\nWhen you convert 72 Indian Rupees (INR) to US Dollars (USD), it equals approximately $0.83.'"
      ]
     },
     "execution_count": 125,
     "metadata": {},
     "output_type": "execute_result"
    }
   ],
   "source": [
    "llm_with_tools.invoke(messages).content"
   ]
  },
  {
   "cell_type": "code",
   "execution_count": null,
   "id": "c242238e",
   "metadata": {},
   "outputs": [],
   "source": []
  },
  {
   "cell_type": "code",
   "execution_count": null,
   "id": "c6cf8cc8",
   "metadata": {},
   "outputs": [],
   "source": []
  },
  {
   "cell_type": "code",
   "execution_count": null,
   "id": "42cf95fb",
   "metadata": {},
   "outputs": [],
   "source": []
  }
 ],
 "metadata": {
  "kernelspec": {
   "display_name": "Python 3",
   "language": "python",
   "name": "python3"
  },
  "language_info": {
   "codemirror_mode": {
    "name": "ipython",
    "version": 3
   },
   "file_extension": ".py",
   "mimetype": "text/x-python",
   "name": "python",
   "nbconvert_exporter": "python",
   "pygments_lexer": "ipython3",
   "version": "3.13.5"
  }
 },
 "nbformat": 4,
 "nbformat_minor": 5
}
