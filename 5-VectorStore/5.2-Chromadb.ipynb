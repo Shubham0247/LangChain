{
 "cells": [
  {
   "cell_type": "code",
   "execution_count": 1,
   "id": "32476dc2",
   "metadata": {},
   "outputs": [],
   "source": [
    "## building a sample vectordb\n",
    "\n",
    "from langchain_community.document_loaders import TextLoader\n",
    "from langchain_text_splitters import RecursiveCharacterTextSplitter\n",
    "from langchain_ollama import OllamaEmbeddings\n",
    "from langchain_chroma import Chroma"
   ]
  },
  {
   "cell_type": "code",
   "execution_count": 2,
   "id": "f0b06928",
   "metadata": {},
   "outputs": [
    {
     "data": {
      "text/plain": [
       "[Document(metadata={'source': 'info.txt'}, page_content=\"My name is Shubham. I am a Software Engineer. I love to code and explore new technologies. Building applications that solve real-world problems gives me immense satisfaction. I enjoy working with both front-end and back-end systems. Debugging and optimizing code are challenges I genuinely look forward to. I'm always curious about how things work under the hood. Learning never stops for me — I constantly explore new programming languages, frameworks, and tools. I also like collaborating with other developers and sharing knowledge. Coding is not just a job for me; it’s something I truly enjoy doing every day.\")]"
      ]
     },
     "execution_count": 2,
     "metadata": {},
     "output_type": "execute_result"
    }
   ],
   "source": [
    "loader = TextLoader('info.txt')\n",
    "documents = loader.load()\n",
    "documents"
   ]
  },
  {
   "cell_type": "code",
   "execution_count": 29,
   "id": "b446869f",
   "metadata": {},
   "outputs": [
    {
     "data": {
      "text/plain": [
       "[Document(metadata={'source': 'info.txt'}, page_content='My name is Shubham. I am a Software'),\n",
       " Document(metadata={'source': 'info.txt'}, page_content='Engineer. I love to code and explore'),\n",
       " Document(metadata={'source': 'info.txt'}, page_content='new technologies. Building applications'),\n",
       " Document(metadata={'source': 'info.txt'}, page_content='that solve real-world problems gives me'),\n",
       " Document(metadata={'source': 'info.txt'}, page_content='me immense satisfaction. I enjoy'),\n",
       " Document(metadata={'source': 'info.txt'}, page_content='working with both front-end and'),\n",
       " Document(metadata={'source': 'info.txt'}, page_content='and back-end systems. Debugging and'),\n",
       " Document(metadata={'source': 'info.txt'}, page_content='and optimizing code are challenges I'),\n",
       " Document(metadata={'source': 'info.txt'}, page_content=\"I genuinely look forward to. I'm always\"),\n",
       " Document(metadata={'source': 'info.txt'}, page_content='curious about how things work under the'),\n",
       " Document(metadata={'source': 'info.txt'}, page_content='the hood. Learning never stops for me —'),\n",
       " Document(metadata={'source': 'info.txt'}, page_content='me — I constantly explore new'),\n",
       " Document(metadata={'source': 'info.txt'}, page_content='new programming languages, frameworks,'),\n",
       " Document(metadata={'source': 'info.txt'}, page_content='and tools. I also like collaborating'),\n",
       " Document(metadata={'source': 'info.txt'}, page_content='with other developers and sharing'),\n",
       " Document(metadata={'source': 'info.txt'}, page_content='knowledge. Coding is not just a job for'),\n",
       " Document(metadata={'source': 'info.txt'}, page_content='for me; it’s something I truly enjoy'),\n",
       " Document(metadata={'source': 'info.txt'}, page_content='doing every day.')]"
      ]
     },
     "execution_count": 29,
     "metadata": {},
     "output_type": "execute_result"
    }
   ],
   "source": [
    "text_splitter = RecursiveCharacterTextSplitter(chunk_size=40,chunk_overlap=5)\n",
    "docs = text_splitter.split_documents(documents)\n",
    "docs"
   ]
  },
  {
   "cell_type": "code",
   "execution_count": 30,
   "id": "d4e6c6ed",
   "metadata": {},
   "outputs": [
    {
     "data": {
      "text/plain": [
       "<langchain_chroma.vectorstores.Chroma at 0x210ffda1450>"
      ]
     },
     "execution_count": 30,
     "metadata": {},
     "output_type": "execute_result"
    }
   ],
   "source": [
    "embeddings = OllamaEmbeddings(model=\"nomic-embed-text\")\n",
    "db = Chroma.from_documents(docs, embeddings)\n",
    "db"
   ]
  },
  {
   "cell_type": "code",
   "execution_count": 31,
   "id": "4592c181",
   "metadata": {},
   "outputs": [
    {
     "data": {
      "text/plain": [
       "[(Document(id='8f93bc82-37cc-49f5-84c3-b6c1fe779a35', metadata={'source': 'info.txt'}, page_content='also like collaborating with'),\n",
       "  0.8471572039571081),\n",
       " (Document(id='028a1bf8-7bad-4f9c-b8e1-e2d40b8adcda', metadata={'source': 'info.txt'}, page_content='also like collaborating with'),\n",
       "  0.8471572039571081),\n",
       " (Document(id='bb82fa02-5169-41f6-8ef0-ee6454a5f111', metadata={'source': 'info.txt'}, page_content='collaborating with other developers and sharing'),\n",
       "  0.7306219159310472),\n",
       " (Document(id='5c441bbe-9a02-4307-89cf-6b9f9a6a3fce', metadata={'source': 'info.txt'}, page_content='and tools. I also like collaborating'),\n",
       "  0.7066234160952471)]"
      ]
     },
     "execution_count": 31,
     "metadata": {},
     "output_type": "execute_result"
    }
   ],
   "source": [
    "query = \"Collaborating\"\n",
    "\n",
    "query_search = db.similarity_search_with_relevance_scores(query)\n",
    "query_search"
   ]
  },
  {
   "cell_type": "code",
   "execution_count": 32,
   "id": "f4ea4b3c",
   "metadata": {},
   "outputs": [],
   "source": [
    "## Saving to the disk\n",
    "\n",
    "vectordb = Chroma.from_documents(documents=docs, embedding=embeddings, persist_directory='./chroma_db')"
   ]
  },
  {
   "cell_type": "code",
   "execution_count": 34,
   "id": "ccce45b4",
   "metadata": {},
   "outputs": [
    {
     "data": {
      "text/plain": [
       "'am a Software Engineer. I'"
      ]
     },
     "execution_count": 34,
     "metadata": {},
     "output_type": "execute_result"
    }
   ],
   "source": [
    "## load from disk\n",
    "\n",
    "db2 = Chroma(persist_directory='./chroma_db',embedding_function=embeddings)\n",
    "docs = db2.similarity_search(\"Who am I\")\n",
    "docs[0].page_content"
   ]
  },
  {
   "cell_type": "code",
   "execution_count": 36,
   "id": "0db2db10",
   "metadata": {},
   "outputs": [
    {
     "data": {
      "text/plain": [
       "'also like collaborating with'"
      ]
     },
     "execution_count": 36,
     "metadata": {},
     "output_type": "execute_result"
    }
   ],
   "source": [
    "## Retriever option\n",
    "retriever = vectordb.as_retriever()\n",
    "retriever.invoke(query)[0].page_content"
   ]
  },
  {
   "cell_type": "code",
   "execution_count": null,
   "id": "2bf64e2f",
   "metadata": {},
   "outputs": [],
   "source": []
  },
  {
   "cell_type": "code",
   "execution_count": null,
   "id": "5e75b178",
   "metadata": {},
   "outputs": [],
   "source": []
  },
  {
   "cell_type": "code",
   "execution_count": null,
   "id": "a94fe9c8",
   "metadata": {},
   "outputs": [],
   "source": []
  }
 ],
 "metadata": {
  "kernelspec": {
   "display_name": "Python 3",
   "language": "python",
   "name": "python3"
  },
  "language_info": {
   "codemirror_mode": {
    "name": "ipython",
    "version": 3
   },
   "file_extension": ".py",
   "mimetype": "text/x-python",
   "name": "python",
   "nbconvert_exporter": "python",
   "pygments_lexer": "ipython3",
   "version": "3.13.5"
  }
 },
 "nbformat": 4,
 "nbformat_minor": 5
}
